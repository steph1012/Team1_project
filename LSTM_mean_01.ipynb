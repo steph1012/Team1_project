{
 "cells": [
  {
   "cell_type": "code",
   "execution_count": 1,
   "metadata": {
    "colab": {
     "base_uri": "https://localhost:8080/"
    },
    "id": "r3PIACVZVC-o",
    "outputId": "66daa1f6-a03a-4cd5-eb01-ff1404f64c0e"
   },
   "outputs": [
    {
     "name": "stdout",
     "output_type": "stream",
     "text": [
      "Mounted at /content/drive\n",
      "/content/drive/MyDrive\n"
     ]
    }
   ],
   "source": [
    "from google.colab import drive\n",
    "drive.mount('/content/drive', force_remount=True)\n",
    "%cd \"/content/drive/MyDrive\""
   ]
  },
  {
   "cell_type": "code",
   "execution_count": 2,
   "metadata": {
    "id": "YxpOJjdPUcBX"
   },
   "outputs": [],
   "source": [
    "import datetime\n",
    "import pandas as pd\n",
    "import math\n",
    "import tensorflow as tf\n",
    "import numpy as np\n",
    "import torch\n",
    "import random\n",
    "import matplotlib.pyplot as plt\n",
    "import os\n",
    "\n",
    "from tensorflow.python.client import device_lib\n",
    "from torch.utils.data import DataLoader, Dataset, Subset, ConcatDataset"
   ]
  },
  {
   "cell_type": "code",
   "execution_count": 3,
   "metadata": {
    "colab": {
     "base_uri": "https://localhost:8080/"
    },
    "id": "wPdZl-OmUcBa",
    "outputId": "d348dbea-b20d-4c3b-a1b1-212011e10947",
    "scrolled": true
   },
   "outputs": [
    {
     "name": "stdout",
     "output_type": "stream",
     "text": [
      "[name: \"/device:CPU:0\"\n",
      "device_type: \"CPU\"\n",
      "memory_limit: 268435456\n",
      "locality {\n",
      "}\n",
      "incarnation: 2886914334470100086\n",
      "xla_global_id: -1\n",
      ", name: \"/device:GPU:0\"\n",
      "device_type: \"GPU\"\n",
      "memory_limit: 14626652160\n",
      "locality {\n",
      "  bus_id: 1\n",
      "  links {\n",
      "  }\n",
      "}\n",
      "incarnation: 946671628799391272\n",
      "physical_device_desc: \"device: 0, name: Tesla T4, pci bus id: 0000:00:04.0, compute capability: 7.5\"\n",
      "xla_global_id: 416903419\n",
      "]\n",
      "===============\n",
      "2.1.0+cu121\n",
      "===============\n",
      "12.1\n",
      "===============\n",
      "8902\n",
      "===============\n",
      "2.15.0\n",
      "===============\n",
      "[PhysicalDevice(name='/physical_device:GPU:0', device_type='GPU')]\n"
     ]
    }
   ],
   "source": [
    "print(device_lib.list_local_devices())\n",
    "print(\"===============\")\n",
    "print(torch.__version__)\n",
    "print(\"===============\")\n",
    "print(torch.version.cuda)\n",
    "print(\"===============\")\n",
    "print(torch.backends.cudnn.version())\n",
    "print(\"===============\")\n",
    "print(tf.__version__)\n",
    "print(\"===============\")\n",
    "print(tf.config.list_physical_devices('GPU'))"
   ]
  },
  {
   "cell_type": "code",
   "execution_count": 4,
   "metadata": {
    "id": "ujURKlkYUcBc"
   },
   "outputs": [],
   "source": [
    "# Fix the seed for reproducibility\n",
    "seed = 999\n",
    "random.seed(seed)\n",
    "np.random.seed(seed)\n",
    "torch.manual_seed(seed)\n",
    "torch.backends.cudnn.deterministic = True"
   ]
  },
  {
   "cell_type": "markdown",
   "metadata": {
    "id": "Ix_nyo4tUcBc"
   },
   "source": [
    "# data preprocess"
   ]
  },
  {
   "cell_type": "code",
   "execution_count": 5,
   "metadata": {
    "colab": {
     "base_uri": "https://localhost:8080/"
    },
    "id": "WiKuBz7kUcBd",
    "outputId": "17414446-f6a6-45e6-a824-cf2a339cd374"
   },
   "outputs": [
    {
     "name": "stdout",
     "output_type": "stream",
     "text": [
      "   Unnamed: 0  index   stay_id   hadm_id  subject_id  label  \\\n",
      "0           0      0  30039798  27880403    18499026      0   \n",
      "1           1      0  30039798  27880403    18499026      0   \n",
      "2           2      0  30039798  27880403    18499026      0   \n",
      "3           3      0  30039798  27880403    18499026      0   \n",
      "4           4      0  30039798  27880403    18499026      0   \n",
      "\n",
      "            icu_intime  charttime  urineoutput          icu_outtime  \\\n",
      "0  2137-09-15 08:36:00          0          0.0  2137-09-16 17:28:21   \n",
      "1  2137-09-15 08:36:00          1        185.0  2137-09-16 17:28:21   \n",
      "2  2137-09-15 08:36:00          2         82.0  2137-09-16 17:28:21   \n",
      "3  2137-09-15 08:36:00          3        220.0  2137-09-16 17:28:21   \n",
      "4  2137-09-15 08:36:00          4        140.0  2137-09-16 17:28:21   \n",
      "\n",
      "   aki_stage  aki_charttime  rank  \n",
      "0        0.0              0     1  \n",
      "1        0.0              1     1  \n",
      "2        0.0              2     1  \n",
      "3        0.0              3     1  \n",
      "4        0.0              4     1  \n"
     ]
    }
   ],
   "source": [
    "df  = pd.read_csv(\"./Data_Science_for_Digital_Health/final_result.csv\")\n",
    "print(df.head(5))"
   ]
  },
  {
   "cell_type": "markdown",
   "metadata": {
    "id": "hOfoif1sUcBe"
   },
   "source": [
    "### padding data of each patient into the same length"
   ]
  },
  {
   "cell_type": "code",
   "execution_count": 6,
   "metadata": {
    "colab": {
     "base_uri": "https://localhost:8080/"
    },
    "id": "nHENiGVCUcBe",
    "outputId": "5554153e-0eda-464f-b337-d3d2188ed146"
   },
   "outputs": [
    {
     "name": "stdout",
     "output_type": "stream",
     "text": [
      "there are totally 49669 patients\n"
     ]
    }
   ],
   "source": [
    "stay_id_list = df[\"stay_id\"].unique()\n",
    "print(\"there are totally {} patients\".format(len(stay_id_list)))"
   ]
  },
  {
   "cell_type": "code",
   "execution_count": 7,
   "metadata": {
    "colab": {
     "base_uri": "https://localhost:8080/"
    },
    "id": "ia9X_uheUcBe",
    "outputId": "9c0ffc49-61fb-4b91-abf1-a5bf1b519658"
   },
   "outputs": [
    {
     "name": "stdout",
     "output_type": "stream",
     "text": [
      "the longest sequence is 2438\n"
     ]
    }
   ],
   "source": [
    "longest_sequence = 0\n",
    "for stay_id in stay_id_list:\n",
    "    now_process = df.loc[df['stay_id'] == stay_id]\n",
    "    tmp_len = len(now_process)\n",
    "    if tmp_len > longest_sequence:\n",
    "        longest_sequence = tmp_len\n",
    "print(\"the longest sequence is {}\".format(longest_sequence))"
   ]
  },
  {
   "cell_type": "code",
   "execution_count": 8,
   "metadata": {
    "colab": {
     "base_uri": "https://localhost:8080/"
    },
    "id": "kU8_8Lmc7UDw",
    "outputId": "4196cdfd-95dc-4751-daa9-ed30f8423b52"
   },
   "outputs": [
    {
     "name": "stdout",
     "output_type": "stream",
     "text": [
      "the mean urine output of all patients is:  88.23233722797809\n"
     ]
    }
   ],
   "source": [
    "## find the mean of all urine output\n",
    "## use it for padding later\n",
    "all_uo = np.array(df[\"urineoutput\"].tolist())\n",
    "uo_mean = np.mean(all_uo)\n",
    "print(\"the mean urine output of all patients is: \", uo_mean)"
   ]
  },
  {
   "cell_type": "code",
   "execution_count": 9,
   "metadata": {
    "colab": {
     "base_uri": "https://localhost:8080/"
    },
    "id": "MlZN7NxjUcBf",
    "outputId": "07312606-0010-4758-9117-b78fa282cf15"
   },
   "outputs": [
    {
     "name": "stdout",
     "output_type": "stream",
     "text": [
      "after process, there are 30001 patients' data\n",
      "(30001, 2432)\n",
      "(30001, 2408)\n"
     ]
    }
   ],
   "source": [
    "padding_hr = 24          # the first `padding_hr` nodes have no output\n",
    "predict_after_hr = 6    # for each node, input the nth Hour urineOutput, output the (n + predict_after_hr)th Hour AKI_stage\n",
    "\n",
    "X_per_patient = [] # urine output from 0H ~ (N - predict_after_hr)H\n",
    "Y_per_patient = [] # AKI stage from (padding_hr + predict_after_hr)H ~ (N)H\n",
    "for stay_id in stay_id_list:\n",
    "    now_process = df.loc[df['stay_id'] == stay_id].reset_index()\n",
    "\n",
    "    uo = now_process[\"urineoutput\"].tolist()\n",
    "    aki_stage = now_process[\"aki_stage\"].tolist()\n",
    "\n",
    "    if len(aki_stage) <=  padding_hr + predict_after_hr: # there is no enough data for predict\n",
    "        continue\n",
    "\n",
    "    # padding all patients' data to the same length with [-1]\n",
    "    uo += [uo_mean] * (longest_sequence - len(uo))\n",
    "    aki_stage += [4] * (longest_sequence - len(aki_stage))\n",
    "\n",
    "    # apply padding_hr and predict_after_hr\n",
    "    uo = uo[: len(uo) - predict_after_hr]\n",
    "    aki_stage = aki_stage[padding_hr + predict_after_hr :]\n",
    "\n",
    "    if len(uo) - len(aki_stage) != padding_hr:\n",
    "        print(\"err\")\n",
    "\n",
    "    aki_stage = np.array(aki_stage)\n",
    "    aki_stage[aki_stage == 2] = 1\n",
    "    aki_stage[aki_stage == 3] = 1\n",
    "    aki_stage[aki_stage == 4] = 2\n",
    "\n",
    "    X_per_patient.append(uo)\n",
    "    Y_per_patient.append(aki_stage)\n",
    "\n",
    "print(\"after process, there are {} patients' data\".format(len(X_per_patient)))\n",
    "\n",
    "\n",
    "X_per_patient = np.array(X_per_patient)\n",
    "Y_per_patient = np.array(Y_per_patient)\n",
    "\n",
    "# the (dim of X) should be the (dim of Y) - padding_hr\n",
    "print(X_per_patient.shape)\n",
    "print(Y_per_patient.shape)\n",
    "\n",
    "\n"
   ]
  },
  {
   "cell_type": "code",
   "execution_count": 10,
   "metadata": {
    "colab": {
     "base_uri": "https://localhost:8080/"
    },
    "id": "MHNwhdbkUcBg",
    "outputId": "f5aaf39e-17ac-4af9-d659-06e4fc4c816b"
   },
   "outputs": [
    {
     "name": "stdout",
     "output_type": "stream",
     "text": [
      "therea are 30001 patients with AKI\n",
      "therea are 0 patients without AKI\n"
     ]
    }
   ],
   "source": [
    "AKI_patient = 0\n",
    "noAKI_patient = 0\n",
    "for AKI_stages in Y_per_patient:\n",
    "    if 1 in AKI_stages or 2 in AKI_stages or 3 in AKI_stages:\n",
    "        AKI_patient += 1\n",
    "    else:\n",
    "        noAKI_patient += 1\n",
    "\n",
    "print(\"therea are {} patients with AKI\".format(AKI_patient))\n",
    "print(\"therea are {} patients without AKI\".format(noAKI_patient))"
   ]
  },
  {
   "cell_type": "markdown",
   "metadata": {
    "id": "ygl6srrVUcBg"
   },
   "source": [
    "### Split Data"
   ]
  },
  {
   "cell_type": "code",
   "execution_count": 11,
   "metadata": {
    "id": "WTmLsiEAUcBg"
   },
   "outputs": [],
   "source": [
    "X_per_patient = X_per_patient[:, :, np.newaxis]\n",
    "Y_per_patient = Y_per_patient[:, :, np.newaxis]"
   ]
  },
  {
   "cell_type": "code",
   "execution_count": 12,
   "metadata": {
    "id": "p9D2T_8hUcBg"
   },
   "outputs": [],
   "source": [
    "def shuffle(X,Y):\n",
    "    randomList = np.arange(X.shape[0])\n",
    "    np.random.shuffle(randomList)\n",
    "    return X[randomList], Y[randomList]\n",
    "\n",
    "X_per_patient, Y_per_patient = shuffle(X_per_patient, Y_per_patient)"
   ]
  },
  {
   "cell_type": "code",
   "execution_count": 13,
   "metadata": {
    "id": "NhrnjRvnUcBh"
   },
   "outputs": [],
   "source": [
    "def splitData(X, Y, val_rate, test_rate):\n",
    "    X_val = X[ : int(X.shape[0]*val_rate)]\n",
    "    Y_val = Y[ : int(Y.shape[0]*val_rate)]\n",
    "\n",
    "    X_test = X[int(X.shape[0]*val_rate) : int(X.shape[0]*val_rate)+int(X.shape[0]*test_rate)]\n",
    "    Y_test = Y[int(Y.shape[0]*val_rate) : int(Y.shape[0]*val_rate)+int(Y.shape[0]*test_rate)]\n",
    "\n",
    "    X_train = X[int(X.shape[0]*val_rate)+int(X.shape[0]*test_rate) : ]\n",
    "    Y_train = Y[int(Y.shape[0]*val_rate)+int(Y.shape[0]*test_rate) : ]\n",
    "    return X_train, Y_train, X_val, Y_val, X_test, Y_test"
   ]
  },
  {
   "cell_type": "code",
   "execution_count": 14,
   "metadata": {
    "colab": {
     "base_uri": "https://localhost:8080/"
    },
    "id": "6y5FfyujUcBh",
    "outputId": "72d888bf-4212-44b8-e1c0-8d9c268da56f"
   },
   "outputs": [
    {
     "name": "stdout",
     "output_type": "stream",
     "text": [
      "(21001, 2432, 1)\n",
      "(21001, 2408, 1)\n",
      "(6000, 2432, 1)\n",
      "(6000, 2408, 1)\n",
      "(3000, 2432, 1)\n",
      "(3000, 2408, 1)\n"
     ]
    }
   ],
   "source": [
    "X_train, Y_train, X_val, Y_val, X_test, Y_test = splitData(X_per_patient, Y_per_patient, val_rate=0.2, test_rate=0.1)\n",
    "print(X_train.shape)\n",
    "print(Y_train.shape)\n",
    "print(X_val.shape)\n",
    "print(Y_val.shape)\n",
    "print(X_test.shape)\n",
    "print(Y_test.shape)"
   ]
  },
  {
   "cell_type": "markdown",
   "metadata": {
    "id": "5DXnbPqNUcBh"
   },
   "source": [
    "# build LSTM model"
   ]
  },
  {
   "cell_type": "code",
   "execution_count": 15,
   "metadata": {
    "id": "6WulpnJFUcBh"
   },
   "outputs": [],
   "source": [
    "from tensorflow.keras.models import Sequential\n",
    "from tensorflow.keras.layers import LSTM, Dense, TimeDistributed, Lambda\n",
    "from tensorflow.keras.optimizers import Adam\n",
    "from torch import nn\n",
    "from torch.nn import functional as F\n",
    "from tensorflow.keras.callbacks import EarlyStopping, ModelCheckpoint, LearningRateScheduler\n",
    "from tensorflow.keras import backend\n"
   ]
  },
  {
   "cell_type": "code",
   "execution_count": 16,
   "metadata": {
    "id": "0hwZByv-UcBh"
   },
   "outputs": [],
   "source": [
    "def LSTMmodel():\n",
    "    model = Sequential()\n",
    "    model.add(LSTM(units=50, return_sequences = True, input_shape=((longest_sequence - predict_after_hr), 1)))\n",
    "    model.add(Lambda(lambda x: x[:, -(longest_sequence-predict_after_hr-padding_hr):, :])) # use Lambda() to  remove output of the first `padding_hr` nodes\n",
    "    model.add(TimeDistributed((Dense(3, activation='softmax'))))\n",
    "\n",
    "    opt = Adam(learning_rate=1e-4, clipvalue=1.0)\n",
    "    model.compile(optimizer=opt,\\\n",
    "                  loss='sparse_categorical_crossentropy',\\\n",
    "                  metrics=['accuracy'])\n",
    "    return model"
   ]
  },
  {
   "cell_type": "code",
   "execution_count": 17,
   "metadata": {
    "colab": {
     "base_uri": "https://localhost:8080/"
    },
    "id": "8Thv4BW0UcBh",
    "outputId": "006ef688-a681-480f-8d04-a02aecd410f2"
   },
   "outputs": [
    {
     "name": "stdout",
     "output_type": "stream",
     "text": [
      "Model: \"sequential\"\n",
      "_________________________________________________________________\n",
      " Layer (type)                Output Shape              Param #   \n",
      "=================================================================\n",
      " lstm (LSTM)                 (None, 2432, 50)          10400     \n",
      "                                                                 \n",
      " lambda (Lambda)             (None, 2408, 50)          0         \n",
      "                                                                 \n",
      " time_distributed (TimeDist  (None, 2408, 3)           153       \n",
      " ributed)                                                        \n",
      "                                                                 \n",
      "=================================================================\n",
      "Total params: 10553 (41.22 KB)\n",
      "Trainable params: 10553 (41.22 KB)\n",
      "Non-trainable params: 0 (0.00 Byte)\n",
      "_________________________________________________________________\n"
     ]
    }
   ],
   "source": [
    "LSTMmodel = LSTMmodel()\n",
    "LSTMmodel.summary()\n",
    "LSTMmodel.save_weights(\"./Data_Science_for_Digital_Health/ckpt/checkpoint.weights.0.h5\")"
   ]
  },
  {
   "cell_type": "code",
   "execution_count": 18,
   "metadata": {
    "colab": {
     "base_uri": "https://localhost:8080/"
    },
    "id": "91V4koeFUcBh",
    "outputId": "37659fba-d862-4ec1-a370-eeb27867db95",
    "scrolled": true
   },
   "outputs": [
    {
     "name": "stdout",
     "output_type": "stream",
     "text": [
      "Epoch 1/200\n",
      "165/165 [==============================] - ETA: 0s - loss: 0.3435 - accuracy: 0.9677\n",
      "Epoch 1: val_loss improved from inf to 0.20214, saving model to ./Data_Science_for_Digital_Health/ckpt/checkpoint.weights.1.h5\n",
      "165/165 [==============================] - 23s 101ms/step - loss: 0.3435 - accuracy: 0.9677 - val_loss: 0.2021 - val_accuracy: 0.9677 - lr: 1.0000e-04\n",
      "Epoch 2/200\n",
      "165/165 [==============================] - ETA: 0s - loss: 0.1519 - accuracy: 0.9685\n",
      "Epoch 2: val_loss improved from 0.20214 to 0.11655, saving model to ./Data_Science_for_Digital_Health/ckpt/checkpoint.weights.2.h5\n",
      "165/165 [==============================] - 15s 90ms/step - loss: 0.1519 - accuracy: 0.9685 - val_loss: 0.1165 - val_accuracy: 0.9695 - lr: 1.0000e-04\n",
      "Epoch 3/200\n",
      "165/165 [==============================] - ETA: 0s - loss: 0.0980 - accuracy: 0.9714\n",
      "Epoch 3: val_loss improved from 0.11655 to 0.08388, saving model to ./Data_Science_for_Digital_Health/ckpt/checkpoint.weights.3.h5\n",
      "165/165 [==============================] - 16s 98ms/step - loss: 0.0980 - accuracy: 0.9714 - val_loss: 0.0839 - val_accuracy: 0.9740 - lr: 1.0000e-04\n",
      "Epoch 4/200\n",
      "164/165 [============================>.] - ETA: 0s - loss: 0.0722 - accuracy: 0.9756\n",
      "Epoch 4: val_loss improved from 0.08388 to 0.06134, saving model to ./Data_Science_for_Digital_Health/ckpt/checkpoint.weights.4.h5\n",
      "165/165 [==============================] - 16s 96ms/step - loss: 0.0722 - accuracy: 0.9756 - val_loss: 0.0613 - val_accuracy: 0.9766 - lr: 1.0000e-04\n",
      "Epoch 5/200\n",
      "165/165 [==============================] - ETA: 0s - loss: 0.0567 - accuracy: 0.9778\n",
      "Epoch 5: val_loss improved from 0.06134 to 0.05393, saving model to ./Data_Science_for_Digital_Health/ckpt/checkpoint.weights.5.h5\n",
      "165/165 [==============================] - 16s 97ms/step - loss: 0.0567 - accuracy: 0.9778 - val_loss: 0.0539 - val_accuracy: 0.9781 - lr: 1.0000e-04\n",
      "Epoch 6/200\n",
      "165/165 [==============================] - ETA: 0s - loss: 0.0507 - accuracy: 0.9790\n",
      "Epoch 6: val_loss improved from 0.05393 to 0.04827, saving model to ./Data_Science_for_Digital_Health/ckpt/checkpoint.weights.6.h5\n",
      "165/165 [==============================] - 15s 91ms/step - loss: 0.0507 - accuracy: 0.9790 - val_loss: 0.0483 - val_accuracy: 0.9793 - lr: 1.0000e-04\n",
      "Epoch 7/200\n",
      "164/165 [============================>.] - ETA: 0s - loss: 0.0456 - accuracy: 0.9803\n",
      "Epoch 7: val_loss improved from 0.04827 to 0.04414, saving model to ./Data_Science_for_Digital_Health/ckpt/checkpoint.weights.7.h5\n",
      "165/165 [==============================] - 16s 97ms/step - loss: 0.0456 - accuracy: 0.9803 - val_loss: 0.0441 - val_accuracy: 0.9809 - lr: 1.0000e-04\n",
      "Epoch 8/200\n",
      "165/165 [==============================] - ETA: 0s - loss: 0.0418 - accuracy: 0.9821\n",
      "Epoch 8: val_loss improved from 0.04414 to 0.04049, saving model to ./Data_Science_for_Digital_Health/ckpt/checkpoint.weights.8.h5\n",
      "165/165 [==============================] - 16s 96ms/step - loss: 0.0418 - accuracy: 0.9821 - val_loss: 0.0405 - val_accuracy: 0.9830 - lr: 1.0000e-04\n",
      "Epoch 9/200\n",
      "164/165 [============================>.] - ETA: 0s - loss: 0.0388 - accuracy: 0.9837\n",
      "Epoch 9: val_loss improved from 0.04049 to 0.03788, saving model to ./Data_Science_for_Digital_Health/ckpt/checkpoint.weights.9.h5\n",
      "165/165 [==============================] - 16s 97ms/step - loss: 0.0388 - accuracy: 0.9837 - val_loss: 0.0379 - val_accuracy: 0.9843 - lr: 1.0000e-04\n",
      "Epoch 10/200\n",
      "164/165 [============================>.] - ETA: 0s - loss: 0.0363 - accuracy: 0.9854\n",
      "Epoch 10: val_loss improved from 0.03788 to 0.03537, saving model to ./Data_Science_for_Digital_Health/ckpt/checkpoint.weights.10.h5\n",
      "165/165 [==============================] - 15s 91ms/step - loss: 0.0363 - accuracy: 0.9854 - val_loss: 0.0354 - val_accuracy: 0.9857 - lr: 1.0000e-04\n",
      "Epoch 11/200\n",
      "164/165 [============================>.] - ETA: 0s - loss: 0.0340 - accuracy: 0.9869\n",
      "Epoch 11: val_loss improved from 0.03537 to 0.03317, saving model to ./Data_Science_for_Digital_Health/ckpt/checkpoint.weights.11.h5\n",
      "165/165 [==============================] - 15s 91ms/step - loss: 0.0340 - accuracy: 0.9869 - val_loss: 0.0332 - val_accuracy: 0.9873 - lr: 1.0000e-04\n",
      "Epoch 12/200\n",
      "165/165 [==============================] - ETA: 0s - loss: 0.0321 - accuracy: 0.9881\n",
      "Epoch 12: val_loss improved from 0.03317 to 0.03147, saving model to ./Data_Science_for_Digital_Health/ckpt/checkpoint.weights.12.h5\n",
      "165/165 [==============================] - 15s 92ms/step - loss: 0.0321 - accuracy: 0.9881 - val_loss: 0.0315 - val_accuracy: 0.9886 - lr: 1.0000e-04\n",
      "Epoch 13/200\n",
      "165/165 [==============================] - ETA: 0s - loss: 0.0307 - accuracy: 0.9889\n",
      "Epoch 13: val_loss improved from 0.03147 to 0.03027, saving model to ./Data_Science_for_Digital_Health/ckpt/checkpoint.weights.13.h5\n",
      "165/165 [==============================] - 16s 97ms/step - loss: 0.0307 - accuracy: 0.9889 - val_loss: 0.0303 - val_accuracy: 0.9892 - lr: 1.0000e-04\n",
      "Epoch 14/200\n",
      "165/165 [==============================] - ETA: 0s - loss: 0.0296 - accuracy: 0.9892\n",
      "Epoch 14: val_loss improved from 0.03027 to 0.02929, saving model to ./Data_Science_for_Digital_Health/ckpt/checkpoint.weights.14.h5\n",
      "165/165 [==============================] - 15s 92ms/step - loss: 0.0296 - accuracy: 0.9892 - val_loss: 0.0293 - val_accuracy: 0.9895 - lr: 1.0000e-04\n",
      "Epoch 15/200\n",
      "165/165 [==============================] - ETA: 0s - loss: 0.0287 - accuracy: 0.9895\n",
      "Epoch 15: val_loss improved from 0.02929 to 0.02847, saving model to ./Data_Science_for_Digital_Health/ckpt/checkpoint.weights.15.h5\n",
      "165/165 [==============================] - 15s 92ms/step - loss: 0.0287 - accuracy: 0.9895 - val_loss: 0.0285 - val_accuracy: 0.9896 - lr: 1.0000e-04\n",
      "Epoch 16/200\n",
      "165/165 [==============================] - ETA: 0s - loss: 0.0280 - accuracy: 0.9897\n",
      "Epoch 16: val_loss improved from 0.02847 to 0.02776, saving model to ./Data_Science_for_Digital_Health/ckpt/checkpoint.weights.16.h5\n",
      "165/165 [==============================] - 16s 98ms/step - loss: 0.0280 - accuracy: 0.9897 - val_loss: 0.0278 - val_accuracy: 0.9899 - lr: 1.0000e-04\n",
      "Epoch 17/200\n",
      "165/165 [==============================] - ETA: 0s - loss: 0.0273 - accuracy: 0.9899\n",
      "Epoch 17: val_loss improved from 0.02776 to 0.02716, saving model to ./Data_Science_for_Digital_Health/ckpt/checkpoint.weights.17.h5\n",
      "165/165 [==============================] - 16s 98ms/step - loss: 0.0273 - accuracy: 0.9899 - val_loss: 0.0272 - val_accuracy: 0.9900 - lr: 1.0000e-04\n",
      "Epoch 18/200\n",
      "165/165 [==============================] - ETA: 0s - loss: 0.0267 - accuracy: 0.9900\n",
      "Epoch 18: val_loss improved from 0.02716 to 0.02662, saving model to ./Data_Science_for_Digital_Health/ckpt/checkpoint.weights.18.h5\n",
      "165/165 [==============================] - 15s 92ms/step - loss: 0.0267 - accuracy: 0.9900 - val_loss: 0.0266 - val_accuracy: 0.9901 - lr: 1.0000e-04\n",
      "Epoch 19/200\n",
      "165/165 [==============================] - ETA: 0s - loss: 0.0262 - accuracy: 0.9901\n",
      "Epoch 19: val_loss improved from 0.02662 to 0.02608, saving model to ./Data_Science_for_Digital_Health/ckpt/checkpoint.weights.19.h5\n",
      "165/165 [==============================] - 16s 98ms/step - loss: 0.0262 - accuracy: 0.9901 - val_loss: 0.0261 - val_accuracy: 0.9902 - lr: 1.0000e-04\n",
      "Epoch 20/200\n",
      "165/165 [==============================] - ETA: 0s - loss: 0.0257 - accuracy: 0.9902\n",
      "Epoch 20: val_loss improved from 0.02608 to 0.02563, saving model to ./Data_Science_for_Digital_Health/ckpt/checkpoint.weights.20.h5\n",
      "165/165 [==============================] - 15s 92ms/step - loss: 0.0257 - accuracy: 0.9902 - val_loss: 0.0256 - val_accuracy: 0.9903 - lr: 1.0000e-04\n",
      "Epoch 21/200\n",
      "165/165 [==============================] - ETA: 0s - loss: 0.0254 - accuracy: 0.9903\n",
      "Epoch 21: val_loss improved from 0.02563 to 0.02537, saving model to ./Data_Science_for_Digital_Health/ckpt/checkpoint.weights.21.h5\n",
      "165/165 [==============================] - 15s 92ms/step - loss: 0.0254 - accuracy: 0.9903 - val_loss: 0.0254 - val_accuracy: 0.9904 - lr: 9.0484e-05\n",
      "Epoch 22/200\n",
      "165/165 [==============================] - ETA: 0s - loss: 0.0250 - accuracy: 0.9904\n",
      "Epoch 22: val_loss improved from 0.02537 to 0.02513, saving model to ./Data_Science_for_Digital_Health/ckpt/checkpoint.weights.22.h5\n",
      "165/165 [==============================] - 16s 98ms/step - loss: 0.0250 - accuracy: 0.9904 - val_loss: 0.0251 - val_accuracy: 0.9904 - lr: 8.1873e-05\n",
      "Epoch 23/200\n",
      "165/165 [==============================] - ETA: 0s - loss: 0.0249 - accuracy: 0.9904\n",
      "Epoch 23: val_loss improved from 0.02513 to 0.02494, saving model to ./Data_Science_for_Digital_Health/ckpt/checkpoint.weights.23.h5\n",
      "165/165 [==============================] - 15s 91ms/step - loss: 0.0249 - accuracy: 0.9904 - val_loss: 0.0249 - val_accuracy: 0.9905 - lr: 7.4082e-05\n",
      "Epoch 24/200\n",
      "165/165 [==============================] - ETA: 0s - loss: 0.0247 - accuracy: 0.9905\n",
      "Epoch 24: val_loss improved from 0.02494 to 0.02480, saving model to ./Data_Science_for_Digital_Health/ckpt/checkpoint.weights.24.h5\n",
      "165/165 [==============================] - 16s 97ms/step - loss: 0.0247 - accuracy: 0.9905 - val_loss: 0.0248 - val_accuracy: 0.9905 - lr: 6.7032e-05\n",
      "Epoch 25/200\n",
      "165/165 [==============================] - ETA: 0s - loss: 0.0245 - accuracy: 0.9906\n",
      "Epoch 25: val_loss improved from 0.02480 to 0.02464, saving model to ./Data_Science_for_Digital_Health/ckpt/checkpoint.weights.25.h5\n",
      "165/165 [==============================] - 15s 92ms/step - loss: 0.0245 - accuracy: 0.9906 - val_loss: 0.0246 - val_accuracy: 0.9906 - lr: 6.0653e-05\n",
      "Epoch 26/200\n",
      "165/165 [==============================] - ETA: 0s - loss: 0.0244 - accuracy: 0.9906\n",
      "Epoch 26: val_loss improved from 0.02464 to 0.02456, saving model to ./Data_Science_for_Digital_Health/ckpt/checkpoint.weights.26.h5\n",
      "165/165 [==============================] - 15s 92ms/step - loss: 0.0244 - accuracy: 0.9906 - val_loss: 0.0246 - val_accuracy: 0.9906 - lr: 5.4881e-05\n",
      "Epoch 27/200\n",
      "165/165 [==============================] - ETA: 0s - loss: 0.0243 - accuracy: 0.9906\n",
      "Epoch 27: val_loss improved from 0.02456 to 0.02447, saving model to ./Data_Science_for_Digital_Health/ckpt/checkpoint.weights.27.h5\n",
      "165/165 [==============================] - 15s 91ms/step - loss: 0.0243 - accuracy: 0.9906 - val_loss: 0.0245 - val_accuracy: 0.9906 - lr: 4.9659e-05\n",
      "Epoch 28/200\n",
      "165/165 [==============================] - ETA: 0s - loss: 0.0242 - accuracy: 0.9907\n",
      "Epoch 28: val_loss improved from 0.02447 to 0.02437, saving model to ./Data_Science_for_Digital_Health/ckpt/checkpoint.weights.28.h5\n",
      "165/165 [==============================] - 16s 100ms/step - loss: 0.0242 - accuracy: 0.9907 - val_loss: 0.0244 - val_accuracy: 0.9907 - lr: 4.4933e-05\n",
      "Epoch 29/200\n",
      "165/165 [==============================] - ETA: 0s - loss: 0.0241 - accuracy: 0.9907\n",
      "Epoch 29: val_loss improved from 0.02437 to 0.02429, saving model to ./Data_Science_for_Digital_Health/ckpt/checkpoint.weights.29.h5\n",
      "165/165 [==============================] - 16s 98ms/step - loss: 0.0241 - accuracy: 0.9907 - val_loss: 0.0243 - val_accuracy: 0.9907 - lr: 4.0657e-05\n",
      "Epoch 30/200\n",
      "165/165 [==============================] - ETA: 0s - loss: 0.0240 - accuracy: 0.9908\n",
      "Epoch 30: val_loss improved from 0.02429 to 0.02424, saving model to ./Data_Science_for_Digital_Health/ckpt/checkpoint.weights.30.h5\n",
      "165/165 [==============================] - 16s 98ms/step - loss: 0.0240 - accuracy: 0.9908 - val_loss: 0.0242 - val_accuracy: 0.9907 - lr: 3.6788e-05\n",
      "Epoch 31/200\n",
      "165/165 [==============================] - ETA: 0s - loss: 0.0240 - accuracy: 0.9908\n",
      "Epoch 31: val_loss improved from 0.02424 to 0.02418, saving model to ./Data_Science_for_Digital_Health/ckpt/checkpoint.weights.31.h5\n",
      "165/165 [==============================] - 16s 97ms/step - loss: 0.0240 - accuracy: 0.9908 - val_loss: 0.0242 - val_accuracy: 0.9907 - lr: 3.3287e-05\n",
      "Epoch 32/200\n",
      "165/165 [==============================] - ETA: 0s - loss: 0.0239 - accuracy: 0.9908\n",
      "Epoch 32: val_loss improved from 0.02418 to 0.02415, saving model to ./Data_Science_for_Digital_Health/ckpt/checkpoint.weights.32.h5\n",
      "165/165 [==============================] - 15s 91ms/step - loss: 0.0239 - accuracy: 0.9908 - val_loss: 0.0242 - val_accuracy: 0.9908 - lr: 3.0119e-05\n",
      "Epoch 33/200\n",
      "165/165 [==============================] - ETA: 0s - loss: 0.0239 - accuracy: 0.9908\n",
      "Epoch 33: val_loss improved from 0.02415 to 0.02408, saving model to ./Data_Science_for_Digital_Health/ckpt/checkpoint.weights.33.h5\n",
      "165/165 [==============================] - 15s 91ms/step - loss: 0.0239 - accuracy: 0.9908 - val_loss: 0.0241 - val_accuracy: 0.9908 - lr: 2.7253e-05\n",
      "Epoch 34/200\n",
      "165/165 [==============================] - ETA: 0s - loss: 0.0238 - accuracy: 0.9908\n",
      "Epoch 34: val_loss improved from 0.02408 to 0.02406, saving model to ./Data_Science_for_Digital_Health/ckpt/checkpoint.weights.34.h5\n",
      "165/165 [==============================] - 15s 92ms/step - loss: 0.0238 - accuracy: 0.9908 - val_loss: 0.0241 - val_accuracy: 0.9908 - lr: 2.4660e-05\n",
      "Epoch 35/200\n",
      "165/165 [==============================] - ETA: 0s - loss: 0.0238 - accuracy: 0.9909\n",
      "Epoch 35: val_loss improved from 0.02406 to 0.02402, saving model to ./Data_Science_for_Digital_Health/ckpt/checkpoint.weights.35.h5\n",
      "165/165 [==============================] - 15s 93ms/step - loss: 0.0238 - accuracy: 0.9909 - val_loss: 0.0240 - val_accuracy: 0.9908 - lr: 2.2313e-05\n",
      "Epoch 36/200\n",
      "165/165 [==============================] - ETA: 0s - loss: 0.0238 - accuracy: 0.9909\n",
      "Epoch 36: val_loss improved from 0.02402 to 0.02398, saving model to ./Data_Science_for_Digital_Health/ckpt/checkpoint.weights.36.h5\n",
      "165/165 [==============================] - 16s 97ms/step - loss: 0.0238 - accuracy: 0.9909 - val_loss: 0.0240 - val_accuracy: 0.9908 - lr: 2.0190e-05\n",
      "Epoch 37/200\n",
      "164/165 [============================>.] - ETA: 0s - loss: 0.0237 - accuracy: 0.9909\n",
      "Epoch 37: val_loss improved from 0.02398 to 0.02396, saving model to ./Data_Science_for_Digital_Health/ckpt/checkpoint.weights.37.h5\n",
      "165/165 [==============================] - 15s 92ms/step - loss: 0.0237 - accuracy: 0.9909 - val_loss: 0.0240 - val_accuracy: 0.9908 - lr: 1.8268e-05\n",
      "Epoch 38/200\n",
      "164/165 [============================>.] - ETA: 0s - loss: 0.0237 - accuracy: 0.9909\n",
      "Epoch 38: val_loss improved from 0.02396 to 0.02393, saving model to ./Data_Science_for_Digital_Health/ckpt/checkpoint.weights.38.h5\n",
      "165/165 [==============================] - 15s 92ms/step - loss: 0.0237 - accuracy: 0.9909 - val_loss: 0.0239 - val_accuracy: 0.9908 - lr: 1.6530e-05\n",
      "Epoch 39/200\n",
      "165/165 [==============================] - ETA: 0s - loss: 0.0237 - accuracy: 0.9909\n",
      "Epoch 39: val_loss improved from 0.02393 to 0.02391, saving model to ./Data_Science_for_Digital_Health/ckpt/checkpoint.weights.39.h5\n",
      "165/165 [==============================] - 15s 92ms/step - loss: 0.0237 - accuracy: 0.9909 - val_loss: 0.0239 - val_accuracy: 0.9908 - lr: 1.4957e-05\n",
      "Epoch 40/200\n",
      "165/165 [==============================] - ETA: 0s - loss: 0.0237 - accuracy: 0.9909\n",
      "Epoch 40: val_loss improved from 0.02391 to 0.02388, saving model to ./Data_Science_for_Digital_Health/ckpt/checkpoint.weights.40.h5\n",
      "165/165 [==============================] - 18s 107ms/step - loss: 0.0237 - accuracy: 0.9909 - val_loss: 0.0239 - val_accuracy: 0.9908 - lr: 1.3534e-05\n",
      "Epoch 41/200\n",
      "165/165 [==============================] - ETA: 0s - loss: 0.0236 - accuracy: 0.9909\n",
      "Epoch 41: val_loss did not improve from 0.02388\n",
      "165/165 [==============================] - 15s 91ms/step - loss: 0.0236 - accuracy: 0.9909 - val_loss: 0.0239 - val_accuracy: 0.9908 - lr: 1.2246e-05\n",
      "Epoch 42/200\n",
      "165/165 [==============================] - ETA: 0s - loss: 0.0236 - accuracy: 0.9909\n",
      "Epoch 42: val_loss improved from 0.02388 to 0.02385, saving model to ./Data_Science_for_Digital_Health/ckpt/checkpoint.weights.42.h5\n",
      "165/165 [==============================] - 16s 98ms/step - loss: 0.0236 - accuracy: 0.9909 - val_loss: 0.0239 - val_accuracy: 0.9909 - lr: 1.1080e-05\n",
      "Epoch 43/200\n",
      "165/165 [==============================] - ETA: 0s - loss: 0.0236 - accuracy: 0.9909\n",
      "Epoch 43: val_loss improved from 0.02385 to 0.02384, saving model to ./Data_Science_for_Digital_Health/ckpt/checkpoint.weights.43.h5\n",
      "165/165 [==============================] - 15s 92ms/step - loss: 0.0236 - accuracy: 0.9909 - val_loss: 0.0238 - val_accuracy: 0.9909 - lr: 1.0026e-05\n",
      "Epoch 44/200\n",
      "165/165 [==============================] - ETA: 0s - loss: 0.0236 - accuracy: 0.9909\n",
      "Epoch 44: val_loss improved from 0.02384 to 0.02382, saving model to ./Data_Science_for_Digital_Health/ckpt/checkpoint.weights.44.h5\n",
      "165/165 [==============================] - 16s 97ms/step - loss: 0.0236 - accuracy: 0.9909 - val_loss: 0.0238 - val_accuracy: 0.9909 - lr: 9.0718e-06\n",
      "Epoch 45/200\n",
      "165/165 [==============================] - ETA: 0s - loss: 0.0236 - accuracy: 0.9909\n",
      "Epoch 45: val_loss improved from 0.02382 to 0.02381, saving model to ./Data_Science_for_Digital_Health/ckpt/checkpoint.weights.45.h5\n",
      "165/165 [==============================] - 16s 98ms/step - loss: 0.0236 - accuracy: 0.9909 - val_loss: 0.0238 - val_accuracy: 0.9909 - lr: 8.2085e-06\n",
      "Epoch 46/200\n",
      "164/165 [============================>.] - ETA: 0s - loss: 0.0236 - accuracy: 0.9909\n",
      "Epoch 46: val_loss improved from 0.02381 to 0.02380, saving model to ./Data_Science_for_Digital_Health/ckpt/checkpoint.weights.46.h5\n",
      "165/165 [==============================] - 15s 93ms/step - loss: 0.0236 - accuracy: 0.9909 - val_loss: 0.0238 - val_accuracy: 0.9909 - lr: 7.4273e-06\n",
      "Epoch 47/200\n",
      "165/165 [==============================] - ETA: 0s - loss: 0.0236 - accuracy: 0.9909\n",
      "Epoch 47: val_loss improved from 0.02380 to 0.02379, saving model to ./Data_Science_for_Digital_Health/ckpt/checkpoint.weights.47.h5\n",
      "165/165 [==============================] - 16s 98ms/step - loss: 0.0236 - accuracy: 0.9909 - val_loss: 0.0238 - val_accuracy: 0.9909 - lr: 6.7205e-06\n",
      "Epoch 48/200\n",
      "165/165 [==============================] - ETA: 0s - loss: 0.0235 - accuracy: 0.9909\n",
      "Epoch 48: val_loss improved from 0.02379 to 0.02378, saving model to ./Data_Science_for_Digital_Health/ckpt/checkpoint.weights.48.h5\n",
      "165/165 [==============================] - 16s 97ms/step - loss: 0.0235 - accuracy: 0.9909 - val_loss: 0.0238 - val_accuracy: 0.9909 - lr: 6.0810e-06\n",
      "Epoch 49/200\n",
      "165/165 [==============================] - ETA: 0s - loss: 0.0235 - accuracy: 0.9909\n",
      "Epoch 49: val_loss improved from 0.02378 to 0.02377, saving model to ./Data_Science_for_Digital_Health/ckpt/checkpoint.weights.49.h5\n",
      "165/165 [==============================] - 15s 92ms/step - loss: 0.0235 - accuracy: 0.9909 - val_loss: 0.0238 - val_accuracy: 0.9909 - lr: 5.5023e-06\n",
      "Epoch 50/200\n",
      "165/165 [==============================] - ETA: 0s - loss: 0.0235 - accuracy: 0.9909\n",
      "Epoch 50: val_loss improved from 0.02377 to 0.02377, saving model to ./Data_Science_for_Digital_Health/ckpt/checkpoint.weights.50.h5\n",
      "165/165 [==============================] - 15s 91ms/step - loss: 0.0235 - accuracy: 0.9909 - val_loss: 0.0238 - val_accuracy: 0.9909 - lr: 4.9787e-06\n",
      "Epoch 51/200\n",
      "164/165 [============================>.] - ETA: 0s - loss: 0.0235 - accuracy: 0.9910\n",
      "Epoch 51: val_loss improved from 0.02377 to 0.02376, saving model to ./Data_Science_for_Digital_Health/ckpt/checkpoint.weights.51.h5\n",
      "165/165 [==============================] - 16s 97ms/step - loss: 0.0235 - accuracy: 0.9910 - val_loss: 0.0238 - val_accuracy: 0.9909 - lr: 4.9787e-06\n",
      "Epoch 52/200\n",
      "165/165 [==============================] - ETA: 0s - loss: 0.0235 - accuracy: 0.9910\n",
      "Epoch 52: val_loss improved from 0.02376 to 0.02375, saving model to ./Data_Science_for_Digital_Health/ckpt/checkpoint.weights.52.h5\n",
      "165/165 [==============================] - 16s 96ms/step - loss: 0.0235 - accuracy: 0.9910 - val_loss: 0.0237 - val_accuracy: 0.9909 - lr: 4.9787e-06\n",
      "Epoch 53/200\n",
      "165/165 [==============================] - ETA: 0s - loss: 0.0235 - accuracy: 0.9910\n",
      "Epoch 53: val_loss improved from 0.02375 to 0.02374, saving model to ./Data_Science_for_Digital_Health/ckpt/checkpoint.weights.53.h5\n",
      "165/165 [==============================] - 15s 92ms/step - loss: 0.0235 - accuracy: 0.9910 - val_loss: 0.0237 - val_accuracy: 0.9909 - lr: 4.9787e-06\n",
      "Epoch 54/200\n",
      "165/165 [==============================] - ETA: 0s - loss: 0.0235 - accuracy: 0.9910\n",
      "Epoch 54: val_loss improved from 0.02374 to 0.02373, saving model to ./Data_Science_for_Digital_Health/ckpt/checkpoint.weights.54.h5\n",
      "165/165 [==============================] - 15s 93ms/step - loss: 0.0235 - accuracy: 0.9910 - val_loss: 0.0237 - val_accuracy: 0.9909 - lr: 4.9787e-06\n",
      "Epoch 55/200\n",
      "165/165 [==============================] - ETA: 0s - loss: 0.0235 - accuracy: 0.9910\n",
      "Epoch 55: val_loss improved from 0.02373 to 0.02372, saving model to ./Data_Science_for_Digital_Health/ckpt/checkpoint.weights.55.h5\n",
      "165/165 [==============================] - 16s 97ms/step - loss: 0.0235 - accuracy: 0.9910 - val_loss: 0.0237 - val_accuracy: 0.9909 - lr: 4.9787e-06\n",
      "Epoch 56/200\n",
      "165/165 [==============================] - ETA: 0s - loss: 0.0235 - accuracy: 0.9910\n",
      "Epoch 56: val_loss improved from 0.02372 to 0.02371, saving model to ./Data_Science_for_Digital_Health/ckpt/checkpoint.weights.56.h5\n",
      "165/165 [==============================] - 15s 92ms/step - loss: 0.0235 - accuracy: 0.9910 - val_loss: 0.0237 - val_accuracy: 0.9909 - lr: 4.9787e-06\n",
      "Epoch 57/200\n",
      "165/165 [==============================] - ETA: 0s - loss: 0.0235 - accuracy: 0.9910\n",
      "Epoch 57: val_loss improved from 0.02371 to 0.02371, saving model to ./Data_Science_for_Digital_Health/ckpt/checkpoint.weights.57.h5\n",
      "165/165 [==============================] - 16s 98ms/step - loss: 0.0235 - accuracy: 0.9910 - val_loss: 0.0237 - val_accuracy: 0.9909 - lr: 4.9787e-06\n",
      "Epoch 58/200\n",
      "165/165 [==============================] - ETA: 0s - loss: 0.0235 - accuracy: 0.9910\n",
      "Epoch 58: val_loss improved from 0.02371 to 0.02370, saving model to ./Data_Science_for_Digital_Health/ckpt/checkpoint.weights.58.h5\n",
      "165/165 [==============================] - 15s 92ms/step - loss: 0.0235 - accuracy: 0.9910 - val_loss: 0.0237 - val_accuracy: 0.9909 - lr: 4.9787e-06\n",
      "Epoch 59/200\n",
      "165/165 [==============================] - ETA: 0s - loss: 0.0235 - accuracy: 0.9910\n",
      "Epoch 59: val_loss improved from 0.02370 to 0.02370, saving model to ./Data_Science_for_Digital_Health/ckpt/checkpoint.weights.59.h5\n",
      "165/165 [==============================] - 16s 97ms/step - loss: 0.0235 - accuracy: 0.9910 - val_loss: 0.0237 - val_accuracy: 0.9909 - lr: 4.9787e-06\n",
      "Epoch 60/200\n",
      "165/165 [==============================] - ETA: 0s - loss: 0.0235 - accuracy: 0.9910\n",
      "Epoch 60: val_loss improved from 0.02370 to 0.02369, saving model to ./Data_Science_for_Digital_Health/ckpt/checkpoint.weights.60.h5\n",
      "165/165 [==============================] - 15s 92ms/step - loss: 0.0235 - accuracy: 0.9910 - val_loss: 0.0237 - val_accuracy: 0.9909 - lr: 4.9787e-06\n",
      "Epoch 61/200\n",
      "165/165 [==============================] - ETA: 0s - loss: 0.0234 - accuracy: 0.9910\n",
      "Epoch 61: val_loss improved from 0.02369 to 0.02368, saving model to ./Data_Science_for_Digital_Health/ckpt/checkpoint.weights.61.h5\n",
      "165/165 [==============================] - 16s 97ms/step - loss: 0.0234 - accuracy: 0.9910 - val_loss: 0.0237 - val_accuracy: 0.9909 - lr: 4.9787e-06\n",
      "Epoch 62/200\n",
      "165/165 [==============================] - ETA: 0s - loss: 0.0234 - accuracy: 0.9910\n",
      "Epoch 62: val_loss improved from 0.02368 to 0.02367, saving model to ./Data_Science_for_Digital_Health/ckpt/checkpoint.weights.62.h5\n",
      "165/165 [==============================] - 15s 93ms/step - loss: 0.0234 - accuracy: 0.9910 - val_loss: 0.0237 - val_accuracy: 0.9909 - lr: 4.9787e-06\n",
      "Epoch 63/200\n",
      "165/165 [==============================] - ETA: 0s - loss: 0.0234 - accuracy: 0.9910\n",
      "Epoch 63: val_loss improved from 0.02367 to 0.02366, saving model to ./Data_Science_for_Digital_Health/ckpt/checkpoint.weights.63.h5\n",
      "165/165 [==============================] - 15s 92ms/step - loss: 0.0234 - accuracy: 0.9910 - val_loss: 0.0237 - val_accuracy: 0.9909 - lr: 4.9787e-06\n",
      "Epoch 64/200\n",
      "165/165 [==============================] - ETA: 0s - loss: 0.0234 - accuracy: 0.9910\n",
      "Epoch 64: val_loss improved from 0.02366 to 0.02366, saving model to ./Data_Science_for_Digital_Health/ckpt/checkpoint.weights.64.h5\n",
      "165/165 [==============================] - 17s 100ms/step - loss: 0.0234 - accuracy: 0.9910 - val_loss: 0.0237 - val_accuracy: 0.9909 - lr: 4.9787e-06\n",
      "Epoch 65/200\n",
      "164/165 [============================>.] - ETA: 0s - loss: 0.0234 - accuracy: 0.9910\n",
      "Epoch 65: val_loss improved from 0.02366 to 0.02365, saving model to ./Data_Science_for_Digital_Health/ckpt/checkpoint.weights.65.h5\n",
      "165/165 [==============================] - 15s 92ms/step - loss: 0.0234 - accuracy: 0.9910 - val_loss: 0.0236 - val_accuracy: 0.9909 - lr: 4.9787e-06\n",
      "Epoch 66/200\n",
      "165/165 [==============================] - ETA: 0s - loss: 0.0234 - accuracy: 0.9910\n",
      "Epoch 66: val_loss improved from 0.02365 to 0.02364, saving model to ./Data_Science_for_Digital_Health/ckpt/checkpoint.weights.66.h5\n",
      "165/165 [==============================] - 16s 97ms/step - loss: 0.0234 - accuracy: 0.9910 - val_loss: 0.0236 - val_accuracy: 0.9909 - lr: 4.9787e-06\n",
      "Epoch 67/200\n",
      "165/165 [==============================] - ETA: 0s - loss: 0.0234 - accuracy: 0.9910\n",
      "Epoch 67: val_loss improved from 0.02364 to 0.02363, saving model to ./Data_Science_for_Digital_Health/ckpt/checkpoint.weights.67.h5\n",
      "165/165 [==============================] - 16s 98ms/step - loss: 0.0234 - accuracy: 0.9910 - val_loss: 0.0236 - val_accuracy: 0.9909 - lr: 4.9787e-06\n",
      "Epoch 68/200\n",
      "165/165 [==============================] - ETA: 0s - loss: 0.0234 - accuracy: 0.9910\n",
      "Epoch 68: val_loss improved from 0.02363 to 0.02363, saving model to ./Data_Science_for_Digital_Health/ckpt/checkpoint.weights.68.h5\n",
      "165/165 [==============================] - 15s 92ms/step - loss: 0.0234 - accuracy: 0.9910 - val_loss: 0.0236 - val_accuracy: 0.9909 - lr: 4.9787e-06\n",
      "Epoch 69/200\n",
      "165/165 [==============================] - ETA: 0s - loss: 0.0234 - accuracy: 0.9910\n",
      "Epoch 69: val_loss improved from 0.02363 to 0.02362, saving model to ./Data_Science_for_Digital_Health/ckpt/checkpoint.weights.69.h5\n",
      "165/165 [==============================] - 15s 92ms/step - loss: 0.0234 - accuracy: 0.9910 - val_loss: 0.0236 - val_accuracy: 0.9909 - lr: 4.9787e-06\n",
      "Epoch 70/200\n",
      "165/165 [==============================] - ETA: 0s - loss: 0.0234 - accuracy: 0.9910\n",
      "Epoch 70: val_loss improved from 0.02362 to 0.02361, saving model to ./Data_Science_for_Digital_Health/ckpt/checkpoint.weights.70.h5\n",
      "165/165 [==============================] - 15s 92ms/step - loss: 0.0234 - accuracy: 0.9910 - val_loss: 0.0236 - val_accuracy: 0.9909 - lr: 4.9787e-06\n",
      "Epoch 71/200\n",
      "165/165 [==============================] - ETA: 0s - loss: 0.0234 - accuracy: 0.9910\n",
      "Epoch 71: val_loss did not improve from 0.02361\n",
      "165/165 [==============================] - 16s 96ms/step - loss: 0.0234 - accuracy: 0.9910 - val_loss: 0.0236 - val_accuracy: 0.9909 - lr: 4.9787e-06\n",
      "Epoch 72/200\n",
      "165/165 [==============================] - ETA: 0s - loss: 0.0234 - accuracy: 0.9910\n",
      "Epoch 72: val_loss improved from 0.02361 to 0.02360, saving model to ./Data_Science_for_Digital_Health/ckpt/checkpoint.weights.72.h5\n",
      "165/165 [==============================] - 15s 93ms/step - loss: 0.0234 - accuracy: 0.9910 - val_loss: 0.0236 - val_accuracy: 0.9909 - lr: 4.9787e-06\n",
      "Epoch 73/200\n",
      "165/165 [==============================] - ETA: 0s - loss: 0.0234 - accuracy: 0.9910\n",
      "Epoch 73: val_loss improved from 0.02360 to 0.02359, saving model to ./Data_Science_for_Digital_Health/ckpt/checkpoint.weights.73.h5\n",
      "165/165 [==============================] - 15s 93ms/step - loss: 0.0234 - accuracy: 0.9910 - val_loss: 0.0236 - val_accuracy: 0.9909 - lr: 4.9787e-06\n",
      "Epoch 74/200\n",
      "165/165 [==============================] - ETA: 0s - loss: 0.0233 - accuracy: 0.9910\n",
      "Epoch 74: val_loss improved from 0.02359 to 0.02358, saving model to ./Data_Science_for_Digital_Health/ckpt/checkpoint.weights.74.h5\n",
      "165/165 [==============================] - 15s 92ms/step - loss: 0.0233 - accuracy: 0.9910 - val_loss: 0.0236 - val_accuracy: 0.9909 - lr: 4.9787e-06\n",
      "Epoch 75/200\n",
      "165/165 [==============================] - ETA: 0s - loss: 0.0233 - accuracy: 0.9910\n",
      "Epoch 75: val_loss improved from 0.02358 to 0.02357, saving model to ./Data_Science_for_Digital_Health/ckpt/checkpoint.weights.75.h5\n",
      "165/165 [==============================] - 16s 97ms/step - loss: 0.0233 - accuracy: 0.9910 - val_loss: 0.0236 - val_accuracy: 0.9909 - lr: 4.9787e-06\n",
      "Epoch 76/200\n",
      "165/165 [==============================] - ETA: 0s - loss: 0.0233 - accuracy: 0.9910\n",
      "Epoch 76: val_loss improved from 0.02357 to 0.02357, saving model to ./Data_Science_for_Digital_Health/ckpt/checkpoint.weights.76.h5\n",
      "165/165 [==============================] - 17s 106ms/step - loss: 0.0233 - accuracy: 0.9910 - val_loss: 0.0236 - val_accuracy: 0.9909 - lr: 4.9787e-06\n",
      "Epoch 77/200\n",
      "165/165 [==============================] - ETA: 0s - loss: 0.0233 - accuracy: 0.9910\n",
      "Epoch 77: val_loss improved from 0.02357 to 0.02356, saving model to ./Data_Science_for_Digital_Health/ckpt/checkpoint.weights.77.h5\n",
      "165/165 [==============================] - 15s 92ms/step - loss: 0.0233 - accuracy: 0.9910 - val_loss: 0.0236 - val_accuracy: 0.9909 - lr: 4.9787e-06\n",
      "Epoch 78/200\n",
      "164/165 [============================>.] - ETA: 0s - loss: 0.0233 - accuracy: 0.9910\n",
      "Epoch 78: val_loss improved from 0.02356 to 0.02356, saving model to ./Data_Science_for_Digital_Health/ckpt/checkpoint.weights.78.h5\n",
      "165/165 [==============================] - 16s 99ms/step - loss: 0.0233 - accuracy: 0.9910 - val_loss: 0.0236 - val_accuracy: 0.9909 - lr: 4.9787e-06\n",
      "Epoch 79/200\n",
      "165/165 [==============================] - ETA: 0s - loss: 0.0233 - accuracy: 0.9910\n",
      "Epoch 79: val_loss improved from 0.02356 to 0.02354, saving model to ./Data_Science_for_Digital_Health/ckpt/checkpoint.weights.79.h5\n",
      "165/165 [==============================] - 16s 98ms/step - loss: 0.0233 - accuracy: 0.9910 - val_loss: 0.0235 - val_accuracy: 0.9909 - lr: 4.9787e-06\n",
      "Epoch 80/200\n",
      "165/165 [==============================] - ETA: 0s - loss: 0.0233 - accuracy: 0.9910\n",
      "Epoch 80: val_loss improved from 0.02354 to 0.02354, saving model to ./Data_Science_for_Digital_Health/ckpt/checkpoint.weights.80.h5\n",
      "165/165 [==============================] - 15s 92ms/step - loss: 0.0233 - accuracy: 0.9910 - val_loss: 0.0235 - val_accuracy: 0.9909 - lr: 4.9787e-06\n",
      "Epoch 81/200\n",
      "165/165 [==============================] - ETA: 0s - loss: 0.0233 - accuracy: 0.9910\n",
      "Epoch 81: val_loss improved from 0.02354 to 0.02353, saving model to ./Data_Science_for_Digital_Health/ckpt/checkpoint.weights.81.h5\n",
      "165/165 [==============================] - 16s 98ms/step - loss: 0.0233 - accuracy: 0.9910 - val_loss: 0.0235 - val_accuracy: 0.9909 - lr: 4.9787e-06\n",
      "Epoch 82/200\n",
      "165/165 [==============================] - ETA: 0s - loss: 0.0233 - accuracy: 0.9910\n",
      "Epoch 82: val_loss improved from 0.02353 to 0.02352, saving model to ./Data_Science_for_Digital_Health/ckpt/checkpoint.weights.82.h5\n",
      "165/165 [==============================] - 16s 98ms/step - loss: 0.0233 - accuracy: 0.9910 - val_loss: 0.0235 - val_accuracy: 0.9909 - lr: 4.9787e-06\n",
      "Epoch 83/200\n",
      "165/165 [==============================] - ETA: 0s - loss: 0.0233 - accuracy: 0.9910\n",
      "Epoch 83: val_loss improved from 0.02352 to 0.02351, saving model to ./Data_Science_for_Digital_Health/ckpt/checkpoint.weights.83.h5\n",
      "165/165 [==============================] - 16s 98ms/step - loss: 0.0233 - accuracy: 0.9910 - val_loss: 0.0235 - val_accuracy: 0.9910 - lr: 4.9787e-06\n",
      "Epoch 84/200\n",
      "165/165 [==============================] - ETA: 0s - loss: 0.0233 - accuracy: 0.9910\n",
      "Epoch 84: val_loss improved from 0.02351 to 0.02351, saving model to ./Data_Science_for_Digital_Health/ckpt/checkpoint.weights.84.h5\n",
      "165/165 [==============================] - 16s 99ms/step - loss: 0.0233 - accuracy: 0.9910 - val_loss: 0.0235 - val_accuracy: 0.9909 - lr: 4.9787e-06\n",
      "Epoch 85/200\n",
      "165/165 [==============================] - ETA: 0s - loss: 0.0233 - accuracy: 0.9910\n",
      "Epoch 85: val_loss improved from 0.02351 to 0.02350, saving model to ./Data_Science_for_Digital_Health/ckpt/checkpoint.weights.85.h5\n",
      "165/165 [==============================] - 16s 98ms/step - loss: 0.0233 - accuracy: 0.9910 - val_loss: 0.0235 - val_accuracy: 0.9910 - lr: 4.9787e-06\n",
      "Epoch 86/200\n",
      "165/165 [==============================] - ETA: 0s - loss: 0.0233 - accuracy: 0.9910\n",
      "Epoch 86: val_loss improved from 0.02350 to 0.02349, saving model to ./Data_Science_for_Digital_Health/ckpt/checkpoint.weights.86.h5\n",
      "165/165 [==============================] - 16s 97ms/step - loss: 0.0233 - accuracy: 0.9910 - val_loss: 0.0235 - val_accuracy: 0.9910 - lr: 4.9787e-06\n",
      "Epoch 87/200\n",
      "165/165 [==============================] - ETA: 0s - loss: 0.0233 - accuracy: 0.9910\n",
      "Epoch 87: val_loss improved from 0.02349 to 0.02349, saving model to ./Data_Science_for_Digital_Health/ckpt/checkpoint.weights.87.h5\n",
      "165/165 [==============================] - 15s 92ms/step - loss: 0.0233 - accuracy: 0.9910 - val_loss: 0.0235 - val_accuracy: 0.9910 - lr: 4.9787e-06\n",
      "Epoch 88/200\n",
      "165/165 [==============================] - ETA: 0s - loss: 0.0232 - accuracy: 0.9910\n",
      "Epoch 88: val_loss improved from 0.02349 to 0.02348, saving model to ./Data_Science_for_Digital_Health/ckpt/checkpoint.weights.88.h5\n",
      "165/165 [==============================] - 17s 103ms/step - loss: 0.0232 - accuracy: 0.9910 - val_loss: 0.0235 - val_accuracy: 0.9910 - lr: 4.9787e-06\n",
      "Epoch 89/200\n",
      "165/165 [==============================] - ETA: 0s - loss: 0.0232 - accuracy: 0.9910\n",
      "Epoch 89: val_loss improved from 0.02348 to 0.02347, saving model to ./Data_Science_for_Digital_Health/ckpt/checkpoint.weights.89.h5\n",
      "165/165 [==============================] - 16s 97ms/step - loss: 0.0232 - accuracy: 0.9910 - val_loss: 0.0235 - val_accuracy: 0.9910 - lr: 4.9787e-06\n",
      "Epoch 90/200\n",
      "165/165 [==============================] - ETA: 0s - loss: 0.0232 - accuracy: 0.9910\n",
      "Epoch 90: val_loss improved from 0.02347 to 0.02347, saving model to ./Data_Science_for_Digital_Health/ckpt/checkpoint.weights.90.h5\n",
      "165/165 [==============================] - 16s 98ms/step - loss: 0.0232 - accuracy: 0.9910 - val_loss: 0.0235 - val_accuracy: 0.9910 - lr: 4.9787e-06\n",
      "Epoch 91/200\n",
      "165/165 [==============================] - ETA: 0s - loss: 0.0232 - accuracy: 0.9910\n",
      "Epoch 91: val_loss improved from 0.02347 to 0.02347, saving model to ./Data_Science_for_Digital_Health/ckpt/checkpoint.weights.91.h5\n",
      "165/165 [==============================] - 16s 98ms/step - loss: 0.0232 - accuracy: 0.9910 - val_loss: 0.0235 - val_accuracy: 0.9910 - lr: 4.9787e-06\n",
      "Epoch 92/200\n",
      "165/165 [==============================] - ETA: 0s - loss: 0.0232 - accuracy: 0.9910\n",
      "Epoch 92: val_loss improved from 0.02347 to 0.02346, saving model to ./Data_Science_for_Digital_Health/ckpt/checkpoint.weights.92.h5\n",
      "165/165 [==============================] - 15s 92ms/step - loss: 0.0232 - accuracy: 0.9910 - val_loss: 0.0235 - val_accuracy: 0.9910 - lr: 4.9787e-06\n",
      "Epoch 93/200\n",
      "165/165 [==============================] - ETA: 0s - loss: 0.0232 - accuracy: 0.9910\n",
      "Epoch 93: val_loss improved from 0.02346 to 0.02345, saving model to ./Data_Science_for_Digital_Health/ckpt/checkpoint.weights.93.h5\n",
      "165/165 [==============================] - 15s 93ms/step - loss: 0.0232 - accuracy: 0.9910 - val_loss: 0.0234 - val_accuracy: 0.9910 - lr: 4.9787e-06\n",
      "Epoch 94/200\n",
      "165/165 [==============================] - ETA: 0s - loss: 0.0232 - accuracy: 0.9910\n",
      "Epoch 94: val_loss improved from 0.02345 to 0.02344, saving model to ./Data_Science_for_Digital_Health/ckpt/checkpoint.weights.94.h5\n",
      "165/165 [==============================] - 15s 92ms/step - loss: 0.0232 - accuracy: 0.9910 - val_loss: 0.0234 - val_accuracy: 0.9910 - lr: 4.9787e-06\n",
      "Epoch 95/200\n",
      "165/165 [==============================] - ETA: 0s - loss: 0.0232 - accuracy: 0.9910\n",
      "Epoch 95: val_loss improved from 0.02344 to 0.02344, saving model to ./Data_Science_for_Digital_Health/ckpt/checkpoint.weights.95.h5\n",
      "165/165 [==============================] - 15s 92ms/step - loss: 0.0232 - accuracy: 0.9910 - val_loss: 0.0234 - val_accuracy: 0.9910 - lr: 4.9787e-06\n",
      "Epoch 96/200\n",
      "164/165 [============================>.] - ETA: 0s - loss: 0.0232 - accuracy: 0.9911\n",
      "Epoch 96: val_loss improved from 0.02344 to 0.02343, saving model to ./Data_Science_for_Digital_Health/ckpt/checkpoint.weights.96.h5\n",
      "165/165 [==============================] - 16s 98ms/step - loss: 0.0232 - accuracy: 0.9911 - val_loss: 0.0234 - val_accuracy: 0.9910 - lr: 4.9787e-06\n",
      "Epoch 97/200\n",
      "165/165 [==============================] - ETA: 0s - loss: 0.0232 - accuracy: 0.9911\n",
      "Epoch 97: val_loss improved from 0.02343 to 0.02343, saving model to ./Data_Science_for_Digital_Health/ckpt/checkpoint.weights.97.h5\n",
      "165/165 [==============================] - 16s 98ms/step - loss: 0.0232 - accuracy: 0.9911 - val_loss: 0.0234 - val_accuracy: 0.9910 - lr: 4.9787e-06\n",
      "Epoch 98/200\n",
      "165/165 [==============================] - ETA: 0s - loss: 0.0232 - accuracy: 0.9911\n",
      "Epoch 98: val_loss improved from 0.02343 to 0.02342, saving model to ./Data_Science_for_Digital_Health/ckpt/checkpoint.weights.98.h5\n",
      "165/165 [==============================] - 15s 92ms/step - loss: 0.0232 - accuracy: 0.9911 - val_loss: 0.0234 - val_accuracy: 0.9910 - lr: 4.9787e-06\n",
      "Epoch 99/200\n",
      "165/165 [==============================] - ETA: 0s - loss: 0.0232 - accuracy: 0.9911\n",
      "Epoch 99: val_loss improved from 0.02342 to 0.02341, saving model to ./Data_Science_for_Digital_Health/ckpt/checkpoint.weights.99.h5\n",
      "165/165 [==============================] - 16s 98ms/step - loss: 0.0232 - accuracy: 0.9911 - val_loss: 0.0234 - val_accuracy: 0.9910 - lr: 4.9787e-06\n",
      "Epoch 100/200\n",
      "165/165 [==============================] - ETA: 0s - loss: 0.0232 - accuracy: 0.9911\n",
      "Epoch 100: val_loss improved from 0.02341 to 0.02341, saving model to ./Data_Science_for_Digital_Health/ckpt/checkpoint.weights.100.h5\n",
      "165/165 [==============================] - 16s 97ms/step - loss: 0.0232 - accuracy: 0.9911 - val_loss: 0.0234 - val_accuracy: 0.9910 - lr: 4.9787e-06\n",
      "Epoch 101/200\n",
      "165/165 [==============================] - ETA: 0s - loss: 0.0232 - accuracy: 0.9911\n",
      "Epoch 101: val_loss improved from 0.02341 to 0.02340, saving model to ./Data_Science_for_Digital_Health/ckpt/checkpoint.weights.101.h5\n",
      "165/165 [==============================] - 15s 92ms/step - loss: 0.0232 - accuracy: 0.9911 - val_loss: 0.0234 - val_accuracy: 0.9910 - lr: 4.9787e-06\n",
      "Epoch 102/200\n",
      "165/165 [==============================] - ETA: 0s - loss: 0.0232 - accuracy: 0.9911\n",
      "Epoch 102: val_loss improved from 0.02340 to 0.02340, saving model to ./Data_Science_for_Digital_Health/ckpt/checkpoint.weights.102.h5\n",
      "165/165 [==============================] - 16s 98ms/step - loss: 0.0232 - accuracy: 0.9911 - val_loss: 0.0234 - val_accuracy: 0.9910 - lr: 4.9787e-06\n",
      "Epoch 103/200\n",
      "165/165 [==============================] - ETA: 0s - loss: 0.0232 - accuracy: 0.9911\n",
      "Epoch 103: val_loss improved from 0.02340 to 0.02339, saving model to ./Data_Science_for_Digital_Health/ckpt/checkpoint.weights.103.h5\n",
      "165/165 [==============================] - 16s 97ms/step - loss: 0.0232 - accuracy: 0.9911 - val_loss: 0.0234 - val_accuracy: 0.9910 - lr: 4.9787e-06\n",
      "Epoch 104/200\n",
      "165/165 [==============================] - ETA: 0s - loss: 0.0231 - accuracy: 0.9911\n",
      "Epoch 104: val_loss improved from 0.02339 to 0.02339, saving model to ./Data_Science_for_Digital_Health/ckpt/checkpoint.weights.104.h5\n",
      "165/165 [==============================] - 15s 93ms/step - loss: 0.0231 - accuracy: 0.9911 - val_loss: 0.0234 - val_accuracy: 0.9910 - lr: 4.9787e-06\n",
      "Epoch 105/200\n",
      "165/165 [==============================] - ETA: 0s - loss: 0.0231 - accuracy: 0.9911\n",
      "Epoch 105: val_loss improved from 0.02339 to 0.02338, saving model to ./Data_Science_for_Digital_Health/ckpt/checkpoint.weights.105.h5\n",
      "165/165 [==============================] - 15s 92ms/step - loss: 0.0231 - accuracy: 0.9911 - val_loss: 0.0234 - val_accuracy: 0.9910 - lr: 4.9787e-06\n",
      "Epoch 106/200\n",
      "165/165 [==============================] - ETA: 0s - loss: 0.0231 - accuracy: 0.9911\n",
      "Epoch 106: val_loss improved from 0.02338 to 0.02338, saving model to ./Data_Science_for_Digital_Health/ckpt/checkpoint.weights.106.h5\n",
      "165/165 [==============================] - 16s 99ms/step - loss: 0.0231 - accuracy: 0.9911 - val_loss: 0.0234 - val_accuracy: 0.9910 - lr: 4.9787e-06\n",
      "Epoch 107/200\n",
      "165/165 [==============================] - ETA: 0s - loss: 0.0231 - accuracy: 0.9911\n",
      "Epoch 107: val_loss improved from 0.02338 to 0.02337, saving model to ./Data_Science_for_Digital_Health/ckpt/checkpoint.weights.107.h5\n",
      "165/165 [==============================] - 15s 93ms/step - loss: 0.0231 - accuracy: 0.9911 - val_loss: 0.0234 - val_accuracy: 0.9910 - lr: 4.9787e-06\n",
      "Epoch 108/200\n",
      "165/165 [==============================] - ETA: 0s - loss: 0.0231 - accuracy: 0.9911\n",
      "Epoch 108: val_loss improved from 0.02337 to 0.02337, saving model to ./Data_Science_for_Digital_Health/ckpt/checkpoint.weights.108.h5\n",
      "165/165 [==============================] - 16s 99ms/step - loss: 0.0231 - accuracy: 0.9911 - val_loss: 0.0234 - val_accuracy: 0.9910 - lr: 4.9787e-06\n",
      "Epoch 109/200\n",
      "165/165 [==============================] - ETA: 0s - loss: 0.0231 - accuracy: 0.9911\n",
      "Epoch 109: val_loss improved from 0.02337 to 0.02336, saving model to ./Data_Science_for_Digital_Health/ckpt/checkpoint.weights.109.h5\n",
      "165/165 [==============================] - 16s 99ms/step - loss: 0.0231 - accuracy: 0.9911 - val_loss: 0.0234 - val_accuracy: 0.9910 - lr: 4.9787e-06\n",
      "Epoch 110/200\n",
      "165/165 [==============================] - ETA: 0s - loss: 0.0231 - accuracy: 0.9911\n",
      "Epoch 110: val_loss improved from 0.02336 to 0.02335, saving model to ./Data_Science_for_Digital_Health/ckpt/checkpoint.weights.110.h5\n",
      "165/165 [==============================] - 16s 98ms/step - loss: 0.0231 - accuracy: 0.9911 - val_loss: 0.0233 - val_accuracy: 0.9910 - lr: 4.9787e-06\n",
      "Epoch 111/200\n",
      "165/165 [==============================] - ETA: 0s - loss: 0.0231 - accuracy: 0.9911\n",
      "Epoch 111: val_loss did not improve from 0.02335\n",
      "165/165 [==============================] - 15s 92ms/step - loss: 0.0231 - accuracy: 0.9911 - val_loss: 0.0234 - val_accuracy: 0.9910 - lr: 4.9787e-06\n",
      "Epoch 112/200\n",
      "165/165 [==============================] - ETA: 0s - loss: 0.0231 - accuracy: 0.9911\n",
      "Epoch 112: val_loss improved from 0.02335 to 0.02334, saving model to ./Data_Science_for_Digital_Health/ckpt/checkpoint.weights.112.h5\n",
      "165/165 [==============================] - 17s 104ms/step - loss: 0.0231 - accuracy: 0.9911 - val_loss: 0.0233 - val_accuracy: 0.9910 - lr: 4.9787e-06\n",
      "Epoch 113/200\n",
      "165/165 [==============================] - ETA: 0s - loss: 0.0231 - accuracy: 0.9911\n",
      "Epoch 113: val_loss improved from 0.02334 to 0.02333, saving model to ./Data_Science_for_Digital_Health/ckpt/checkpoint.weights.113.h5\n",
      "165/165 [==============================] - 15s 92ms/step - loss: 0.0231 - accuracy: 0.9911 - val_loss: 0.0233 - val_accuracy: 0.9910 - lr: 4.9787e-06\n",
      "Epoch 114/200\n",
      "165/165 [==============================] - ETA: 0s - loss: 0.0231 - accuracy: 0.9911\n",
      "Epoch 114: val_loss improved from 0.02333 to 0.02333, saving model to ./Data_Science_for_Digital_Health/ckpt/checkpoint.weights.114.h5\n",
      "165/165 [==============================] - 15s 93ms/step - loss: 0.0231 - accuracy: 0.9911 - val_loss: 0.0233 - val_accuracy: 0.9910 - lr: 4.9787e-06\n",
      "Epoch 115/200\n",
      "165/165 [==============================] - ETA: 0s - loss: 0.0231 - accuracy: 0.9911\n",
      "Epoch 115: val_loss improved from 0.02333 to 0.02332, saving model to ./Data_Science_for_Digital_Health/ckpt/checkpoint.weights.115.h5\n",
      "165/165 [==============================] - 15s 92ms/step - loss: 0.0231 - accuracy: 0.9911 - val_loss: 0.0233 - val_accuracy: 0.9910 - lr: 4.9787e-06\n",
      "Epoch 116/200\n",
      "165/165 [==============================] - ETA: 0s - loss: 0.0231 - accuracy: 0.9911\n",
      "Epoch 116: val_loss improved from 0.02332 to 0.02332, saving model to ./Data_Science_for_Digital_Health/ckpt/checkpoint.weights.116.h5\n",
      "165/165 [==============================] - 15s 93ms/step - loss: 0.0231 - accuracy: 0.9911 - val_loss: 0.0233 - val_accuracy: 0.9910 - lr: 4.9787e-06\n",
      "Epoch 117/200\n",
      "165/165 [==============================] - ETA: 0s - loss: 0.0231 - accuracy: 0.9911\n",
      "Epoch 117: val_loss did not improve from 0.02332\n",
      "165/165 [==============================] - 15s 92ms/step - loss: 0.0231 - accuracy: 0.9911 - val_loss: 0.0233 - val_accuracy: 0.9910 - lr: 4.9787e-06\n",
      "Epoch 118/200\n",
      "165/165 [==============================] - ETA: 0s - loss: 0.0231 - accuracy: 0.9911\n",
      "Epoch 118: val_loss improved from 0.02332 to 0.02331, saving model to ./Data_Science_for_Digital_Health/ckpt/checkpoint.weights.118.h5\n",
      "165/165 [==============================] - 16s 99ms/step - loss: 0.0231 - accuracy: 0.9911 - val_loss: 0.0233 - val_accuracy: 0.9910 - lr: 4.9787e-06\n",
      "Epoch 119/200\n",
      "164/165 [============================>.] - ETA: 0s - loss: 0.0231 - accuracy: 0.9911\n",
      "Epoch 119: val_loss improved from 0.02331 to 0.02331, saving model to ./Data_Science_for_Digital_Health/ckpt/checkpoint.weights.119.h5\n",
      "165/165 [==============================] - 16s 98ms/step - loss: 0.0231 - accuracy: 0.9911 - val_loss: 0.0233 - val_accuracy: 0.9910 - lr: 4.9787e-06\n",
      "Epoch 120/200\n",
      "165/165 [==============================] - ETA: 0s - loss: 0.0231 - accuracy: 0.9911\n",
      "Epoch 120: val_loss did not improve from 0.02331\n",
      "165/165 [==============================] - 16s 97ms/step - loss: 0.0231 - accuracy: 0.9911 - val_loss: 0.0233 - val_accuracy: 0.9910 - lr: 4.9787e-06\n",
      "Epoch 121/200\n",
      "165/165 [==============================] - ETA: 0s - loss: 0.0231 - accuracy: 0.9911\n",
      "Epoch 121: val_loss improved from 0.02331 to 0.02330, saving model to ./Data_Science_for_Digital_Health/ckpt/checkpoint.weights.121.h5\n",
      "165/165 [==============================] - 15s 92ms/step - loss: 0.0231 - accuracy: 0.9911 - val_loss: 0.0233 - val_accuracy: 0.9910 - lr: 4.9787e-06\n",
      "Epoch 122/200\n",
      "165/165 [==============================] - ETA: 0s - loss: 0.0230 - accuracy: 0.9911\n",
      "Epoch 122: val_loss improved from 0.02330 to 0.02329, saving model to ./Data_Science_for_Digital_Health/ckpt/checkpoint.weights.122.h5\n",
      "165/165 [==============================] - 16s 99ms/step - loss: 0.0230 - accuracy: 0.9911 - val_loss: 0.0233 - val_accuracy: 0.9910 - lr: 4.9787e-06\n",
      "Epoch 123/200\n",
      "165/165 [==============================] - ETA: 0s - loss: 0.0230 - accuracy: 0.9911\n",
      "Epoch 123: val_loss improved from 0.02329 to 0.02329, saving model to ./Data_Science_for_Digital_Health/ckpt/checkpoint.weights.123.h5\n",
      "165/165 [==============================] - 16s 98ms/step - loss: 0.0230 - accuracy: 0.9911 - val_loss: 0.0233 - val_accuracy: 0.9910 - lr: 4.9787e-06\n",
      "Epoch 124/200\n",
      "165/165 [==============================] - ETA: 0s - loss: 0.0230 - accuracy: 0.9911\n",
      "Epoch 124: val_loss improved from 0.02329 to 0.02329, saving model to ./Data_Science_for_Digital_Health/ckpt/checkpoint.weights.124.h5\n",
      "165/165 [==============================] - 17s 102ms/step - loss: 0.0230 - accuracy: 0.9911 - val_loss: 0.0233 - val_accuracy: 0.9910 - lr: 4.9787e-06\n",
      "Epoch 125/200\n",
      "165/165 [==============================] - ETA: 0s - loss: 0.0230 - accuracy: 0.9911\n",
      "Epoch 125: val_loss improved from 0.02329 to 0.02328, saving model to ./Data_Science_for_Digital_Health/ckpt/checkpoint.weights.125.h5\n",
      "165/165 [==============================] - 16s 96ms/step - loss: 0.0230 - accuracy: 0.9911 - val_loss: 0.0233 - val_accuracy: 0.9910 - lr: 4.9787e-06\n",
      "Epoch 126/200\n",
      "165/165 [==============================] - ETA: 0s - loss: 0.0230 - accuracy: 0.9911\n",
      "Epoch 126: val_loss improved from 0.02328 to 0.02327, saving model to ./Data_Science_for_Digital_Health/ckpt/checkpoint.weights.126.h5\n",
      "165/165 [==============================] - 16s 97ms/step - loss: 0.0230 - accuracy: 0.9911 - val_loss: 0.0233 - val_accuracy: 0.9910 - lr: 4.9787e-06\n",
      "Epoch 127/200\n",
      "165/165 [==============================] - ETA: 0s - loss: 0.0230 - accuracy: 0.9911\n",
      "Epoch 127: val_loss did not improve from 0.02327\n",
      "165/165 [==============================] - 16s 97ms/step - loss: 0.0230 - accuracy: 0.9911 - val_loss: 0.0233 - val_accuracy: 0.9910 - lr: 4.9787e-06\n",
      "Epoch 128/200\n",
      "165/165 [==============================] - ETA: 0s - loss: 0.0230 - accuracy: 0.9911\n",
      "Epoch 128: val_loss improved from 0.02327 to 0.02327, saving model to ./Data_Science_for_Digital_Health/ckpt/checkpoint.weights.128.h5\n",
      "165/165 [==============================] - 15s 93ms/step - loss: 0.0230 - accuracy: 0.9911 - val_loss: 0.0233 - val_accuracy: 0.9910 - lr: 4.9787e-06\n",
      "Epoch 129/200\n",
      "165/165 [==============================] - ETA: 0s - loss: 0.0230 - accuracy: 0.9911\n",
      "Epoch 129: val_loss improved from 0.02327 to 0.02326, saving model to ./Data_Science_for_Digital_Health/ckpt/checkpoint.weights.129.h5\n",
      "165/165 [==============================] - 16s 99ms/step - loss: 0.0230 - accuracy: 0.9911 - val_loss: 0.0233 - val_accuracy: 0.9910 - lr: 4.9787e-06\n",
      "Epoch 130/200\n",
      "165/165 [==============================] - ETA: 0s - loss: 0.0230 - accuracy: 0.9911\n",
      "Epoch 130: val_loss improved from 0.02326 to 0.02326, saving model to ./Data_Science_for_Digital_Health/ckpt/checkpoint.weights.130.h5\n",
      "165/165 [==============================] - 15s 92ms/step - loss: 0.0230 - accuracy: 0.9911 - val_loss: 0.0233 - val_accuracy: 0.9910 - lr: 4.9787e-06\n",
      "Epoch 131/200\n",
      "165/165 [==============================] - ETA: 0s - loss: 0.0230 - accuracy: 0.9911\n",
      "Epoch 131: val_loss did not improve from 0.02326\n",
      "165/165 [==============================] - 15s 92ms/step - loss: 0.0230 - accuracy: 0.9911 - val_loss: 0.0233 - val_accuracy: 0.9910 - lr: 4.9787e-06\n",
      "Epoch 132/200\n",
      "165/165 [==============================] - ETA: 0s - loss: 0.0230 - accuracy: 0.9911\n",
      "Epoch 132: val_loss improved from 0.02326 to 0.02325, saving model to ./Data_Science_for_Digital_Health/ckpt/checkpoint.weights.132.h5\n",
      "165/165 [==============================] - 16s 98ms/step - loss: 0.0230 - accuracy: 0.9911 - val_loss: 0.0232 - val_accuracy: 0.9910 - lr: 4.9787e-06\n",
      "Epoch 133/200\n",
      "165/165 [==============================] - ETA: 0s - loss: 0.0230 - accuracy: 0.9911\n",
      "Epoch 133: val_loss improved from 0.02325 to 0.02324, saving model to ./Data_Science_for_Digital_Health/ckpt/checkpoint.weights.133.h5\n",
      "165/165 [==============================] - 16s 98ms/step - loss: 0.0230 - accuracy: 0.9911 - val_loss: 0.0232 - val_accuracy: 0.9910 - lr: 4.9787e-06\n",
      "Epoch 134/200\n",
      "165/165 [==============================] - ETA: 0s - loss: 0.0230 - accuracy: 0.9911\n",
      "Epoch 134: val_loss improved from 0.02324 to 0.02324, saving model to ./Data_Science_for_Digital_Health/ckpt/checkpoint.weights.134.h5\n",
      "165/165 [==============================] - 15s 93ms/step - loss: 0.0230 - accuracy: 0.9911 - val_loss: 0.0232 - val_accuracy: 0.9910 - lr: 4.9787e-06\n",
      "Epoch 135/200\n",
      "164/165 [============================>.] - ETA: 0s - loss: 0.0230 - accuracy: 0.9911\n",
      "Epoch 135: val_loss improved from 0.02324 to 0.02323, saving model to ./Data_Science_for_Digital_Health/ckpt/checkpoint.weights.135.h5\n",
      "165/165 [==============================] - 15s 93ms/step - loss: 0.0230 - accuracy: 0.9911 - val_loss: 0.0232 - val_accuracy: 0.9910 - lr: 4.9787e-06\n",
      "Epoch 136/200\n",
      "165/165 [==============================] - ETA: 0s - loss: 0.0230 - accuracy: 0.9911\n",
      "Epoch 136: val_loss improved from 0.02323 to 0.02323, saving model to ./Data_Science_for_Digital_Health/ckpt/checkpoint.weights.136.h5\n",
      "165/165 [==============================] - 16s 98ms/step - loss: 0.0230 - accuracy: 0.9911 - val_loss: 0.0232 - val_accuracy: 0.9910 - lr: 4.9787e-06\n",
      "Epoch 137/200\n",
      "165/165 [==============================] - ETA: 0s - loss: 0.0230 - accuracy: 0.9911\n",
      "Epoch 137: val_loss improved from 0.02323 to 0.02322, saving model to ./Data_Science_for_Digital_Health/ckpt/checkpoint.weights.137.h5\n",
      "165/165 [==============================] - 17s 105ms/step - loss: 0.0230 - accuracy: 0.9911 - val_loss: 0.0232 - val_accuracy: 0.9910 - lr: 4.9787e-06\n",
      "Epoch 138/200\n",
      "165/165 [==============================] - ETA: 0s - loss: 0.0230 - accuracy: 0.9911\n",
      "Epoch 138: val_loss improved from 0.02322 to 0.02322, saving model to ./Data_Science_for_Digital_Health/ckpt/checkpoint.weights.138.h5\n",
      "165/165 [==============================] - 16s 99ms/step - loss: 0.0230 - accuracy: 0.9911 - val_loss: 0.0232 - val_accuracy: 0.9910 - lr: 4.9787e-06\n",
      "Epoch 139/200\n",
      "165/165 [==============================] - ETA: 0s - loss: 0.0230 - accuracy: 0.9911\n",
      "Epoch 139: val_loss improved from 0.02322 to 0.02322, saving model to ./Data_Science_for_Digital_Health/ckpt/checkpoint.weights.139.h5\n",
      "165/165 [==============================] - 16s 98ms/step - loss: 0.0230 - accuracy: 0.9911 - val_loss: 0.0232 - val_accuracy: 0.9910 - lr: 4.9787e-06\n",
      "Epoch 140/200\n",
      "165/165 [==============================] - ETA: 0s - loss: 0.0230 - accuracy: 0.9911\n",
      "Epoch 140: val_loss improved from 0.02322 to 0.02321, saving model to ./Data_Science_for_Digital_Health/ckpt/checkpoint.weights.140.h5\n",
      "165/165 [==============================] - 16s 99ms/step - loss: 0.0230 - accuracy: 0.9911 - val_loss: 0.0232 - val_accuracy: 0.9910 - lr: 4.9787e-06\n",
      "Epoch 141/200\n",
      "165/165 [==============================] - ETA: 0s - loss: 0.0230 - accuracy: 0.9911\n",
      "Epoch 141: val_loss improved from 0.02321 to 0.02321, saving model to ./Data_Science_for_Digital_Health/ckpt/checkpoint.weights.141.h5\n",
      "165/165 [==============================] - 15s 93ms/step - loss: 0.0230 - accuracy: 0.9911 - val_loss: 0.0232 - val_accuracy: 0.9910 - lr: 4.9787e-06\n",
      "Epoch 142/200\n",
      "165/165 [==============================] - ETA: 0s - loss: 0.0230 - accuracy: 0.9911\n",
      "Epoch 142: val_loss improved from 0.02321 to 0.02321, saving model to ./Data_Science_for_Digital_Health/ckpt/checkpoint.weights.142.h5\n",
      "165/165 [==============================] - 15s 92ms/step - loss: 0.0230 - accuracy: 0.9911 - val_loss: 0.0232 - val_accuracy: 0.9910 - lr: 4.9787e-06\n",
      "Epoch 143/200\n",
      "165/165 [==============================] - ETA: 0s - loss: 0.0230 - accuracy: 0.9911\n",
      "Epoch 143: val_loss improved from 0.02321 to 0.02320, saving model to ./Data_Science_for_Digital_Health/ckpt/checkpoint.weights.143.h5\n",
      "165/165 [==============================] - 16s 98ms/step - loss: 0.0230 - accuracy: 0.9911 - val_loss: 0.0232 - val_accuracy: 0.9910 - lr: 4.9787e-06\n",
      "Epoch 144/200\n",
      "165/165 [==============================] - ETA: 0s - loss: 0.0229 - accuracy: 0.9911\n",
      "Epoch 144: val_loss improved from 0.02320 to 0.02320, saving model to ./Data_Science_for_Digital_Health/ckpt/checkpoint.weights.144.h5\n",
      "165/165 [==============================] - 15s 93ms/step - loss: 0.0229 - accuracy: 0.9911 - val_loss: 0.0232 - val_accuracy: 0.9910 - lr: 4.9787e-06\n",
      "Epoch 145/200\n",
      "165/165 [==============================] - ETA: 0s - loss: 0.0229 - accuracy: 0.9911\n",
      "Epoch 145: val_loss did not improve from 0.02320\n",
      "165/165 [==============================] - 15s 91ms/step - loss: 0.0229 - accuracy: 0.9911 - val_loss: 0.0232 - val_accuracy: 0.9910 - lr: 4.9787e-06\n",
      "Epoch 146/200\n",
      "165/165 [==============================] - ETA: 0s - loss: 0.0229 - accuracy: 0.9911\n",
      "Epoch 146: val_loss improved from 0.02320 to 0.02320, saving model to ./Data_Science_for_Digital_Health/ckpt/checkpoint.weights.146.h5\n",
      "165/165 [==============================] - 16s 99ms/step - loss: 0.0229 - accuracy: 0.9911 - val_loss: 0.0232 - val_accuracy: 0.9910 - lr: 4.9787e-06\n",
      "Epoch 147/200\n",
      "165/165 [==============================] - ETA: 0s - loss: 0.0229 - accuracy: 0.9911\n",
      "Epoch 147: val_loss improved from 0.02320 to 0.02319, saving model to ./Data_Science_for_Digital_Health/ckpt/checkpoint.weights.147.h5\n",
      "165/165 [==============================] - 16s 99ms/step - loss: 0.0229 - accuracy: 0.9911 - val_loss: 0.0232 - val_accuracy: 0.9910 - lr: 4.9787e-06\n",
      "Epoch 148/200\n",
      "165/165 [==============================] - ETA: 0s - loss: 0.0229 - accuracy: 0.9911\n",
      "Epoch 148: val_loss improved from 0.02319 to 0.02318, saving model to ./Data_Science_for_Digital_Health/ckpt/checkpoint.weights.148.h5\n",
      "165/165 [==============================] - 15s 93ms/step - loss: 0.0229 - accuracy: 0.9911 - val_loss: 0.0232 - val_accuracy: 0.9910 - lr: 4.9787e-06\n",
      "Epoch 149/200\n",
      "165/165 [==============================] - ETA: 0s - loss: 0.0229 - accuracy: 0.9911\n",
      "Epoch 149: val_loss improved from 0.02318 to 0.02318, saving model to ./Data_Science_for_Digital_Health/ckpt/checkpoint.weights.149.h5\n",
      "165/165 [==============================] - 17s 106ms/step - loss: 0.0229 - accuracy: 0.9911 - val_loss: 0.0232 - val_accuracy: 0.9910 - lr: 4.9787e-06\n",
      "Epoch 150/200\n",
      "165/165 [==============================] - ETA: 0s - loss: 0.0229 - accuracy: 0.9911\n",
      "Epoch 150: val_loss did not improve from 0.02318\n",
      "165/165 [==============================] - 15s 91ms/step - loss: 0.0229 - accuracy: 0.9911 - val_loss: 0.0232 - val_accuracy: 0.9910 - lr: 4.9787e-06\n",
      "Epoch 151/200\n",
      "165/165 [==============================] - ETA: 0s - loss: 0.0229 - accuracy: 0.9911\n",
      "Epoch 151: val_loss improved from 0.02318 to 0.02317, saving model to ./Data_Science_for_Digital_Health/ckpt/checkpoint.weights.151.h5\n",
      "165/165 [==============================] - 16s 98ms/step - loss: 0.0229 - accuracy: 0.9911 - val_loss: 0.0232 - val_accuracy: 0.9910 - lr: 4.9787e-06\n",
      "Epoch 152/200\n",
      "165/165 [==============================] - ETA: 0s - loss: 0.0229 - accuracy: 0.9911\n",
      "Epoch 152: val_loss improved from 0.02317 to 0.02317, saving model to ./Data_Science_for_Digital_Health/ckpt/checkpoint.weights.152.h5\n",
      "165/165 [==============================] - 16s 98ms/step - loss: 0.0229 - accuracy: 0.9911 - val_loss: 0.0232 - val_accuracy: 0.9910 - lr: 4.9787e-06\n",
      "Epoch 153/200\n",
      "165/165 [==============================] - ETA: 0s - loss: 0.0229 - accuracy: 0.9911\n",
      "Epoch 153: val_loss improved from 0.02317 to 0.02317, saving model to ./Data_Science_for_Digital_Health/ckpt/checkpoint.weights.153.h5\n",
      "165/165 [==============================] - 15s 92ms/step - loss: 0.0229 - accuracy: 0.9911 - val_loss: 0.0232 - val_accuracy: 0.9910 - lr: 4.9787e-06\n",
      "Epoch 154/200\n",
      "165/165 [==============================] - ETA: 0s - loss: 0.0229 - accuracy: 0.9911\n",
      "Epoch 154: val_loss improved from 0.02317 to 0.02316, saving model to ./Data_Science_for_Digital_Health/ckpt/checkpoint.weights.154.h5\n",
      "165/165 [==============================] - 16s 99ms/step - loss: 0.0229 - accuracy: 0.9911 - val_loss: 0.0232 - val_accuracy: 0.9910 - lr: 4.9787e-06\n",
      "Epoch 155/200\n",
      "165/165 [==============================] - ETA: 0s - loss: 0.0229 - accuracy: 0.9911\n",
      "Epoch 155: val_loss improved from 0.02316 to 0.02316, saving model to ./Data_Science_for_Digital_Health/ckpt/checkpoint.weights.155.h5\n",
      "165/165 [==============================] - 16s 98ms/step - loss: 0.0229 - accuracy: 0.9911 - val_loss: 0.0232 - val_accuracy: 0.9910 - lr: 4.9787e-06\n",
      "Epoch 156/200\n",
      "165/165 [==============================] - ETA: 0s - loss: 0.0229 - accuracy: 0.9911\n",
      "Epoch 156: val_loss improved from 0.02316 to 0.02315, saving model to ./Data_Science_for_Digital_Health/ckpt/checkpoint.weights.156.h5\n",
      "165/165 [==============================] - 15s 93ms/step - loss: 0.0229 - accuracy: 0.9911 - val_loss: 0.0232 - val_accuracy: 0.9910 - lr: 4.9787e-06\n",
      "Epoch 157/200\n",
      "165/165 [==============================] - ETA: 0s - loss: 0.0229 - accuracy: 0.9911\n",
      "Epoch 157: val_loss did not improve from 0.02315\n",
      "165/165 [==============================] - 15s 91ms/step - loss: 0.0229 - accuracy: 0.9911 - val_loss: 0.0232 - val_accuracy: 0.9910 - lr: 4.9787e-06\n",
      "Epoch 158/200\n",
      "165/165 [==============================] - ETA: 0s - loss: 0.0229 - accuracy: 0.9912\n",
      "Epoch 158: val_loss improved from 0.02315 to 0.02315, saving model to ./Data_Science_for_Digital_Health/ckpt/checkpoint.weights.158.h5\n",
      "165/165 [==============================] - 16s 98ms/step - loss: 0.0229 - accuracy: 0.9912 - val_loss: 0.0231 - val_accuracy: 0.9910 - lr: 4.9787e-06\n",
      "Epoch 159/200\n",
      "165/165 [==============================] - ETA: 0s - loss: 0.0229 - accuracy: 0.9912\n",
      "Epoch 159: val_loss improved from 0.02315 to 0.02314, saving model to ./Data_Science_for_Digital_Health/ckpt/checkpoint.weights.159.h5\n",
      "165/165 [==============================] - 16s 98ms/step - loss: 0.0229 - accuracy: 0.9912 - val_loss: 0.0231 - val_accuracy: 0.9910 - lr: 4.9787e-06\n",
      "Epoch 160/200\n",
      "165/165 [==============================] - ETA: 0s - loss: 0.0229 - accuracy: 0.9911\n",
      "Epoch 160: val_loss improved from 0.02314 to 0.02314, saving model to ./Data_Science_for_Digital_Health/ckpt/checkpoint.weights.160.h5\n",
      "165/165 [==============================] - 16s 99ms/step - loss: 0.0229 - accuracy: 0.9911 - val_loss: 0.0231 - val_accuracy: 0.9910 - lr: 4.9787e-06\n",
      "Epoch 161/200\n",
      "165/165 [==============================] - ETA: 0s - loss: 0.0229 - accuracy: 0.9912\n",
      "Epoch 161: val_loss improved from 0.02314 to 0.02314, saving model to ./Data_Science_for_Digital_Health/ckpt/checkpoint.weights.161.h5\n",
      "165/165 [==============================] - 16s 99ms/step - loss: 0.0229 - accuracy: 0.9912 - val_loss: 0.0231 - val_accuracy: 0.9910 - lr: 4.9787e-06\n",
      "Epoch 162/200\n",
      "165/165 [==============================] - ETA: 0s - loss: 0.0229 - accuracy: 0.9912\n",
      "Epoch 162: val_loss did not improve from 0.02314\n",
      "165/165 [==============================] - 16s 96ms/step - loss: 0.0229 - accuracy: 0.9912 - val_loss: 0.0231 - val_accuracy: 0.9911 - lr: 4.9787e-06\n",
      "Epoch 163/200\n",
      "165/165 [==============================] - ETA: 0s - loss: 0.0229 - accuracy: 0.9912\n",
      "Epoch 163: val_loss improved from 0.02314 to 0.02313, saving model to ./Data_Science_for_Digital_Health/ckpt/checkpoint.weights.163.h5\n",
      "165/165 [==============================] - 15s 92ms/step - loss: 0.0229 - accuracy: 0.9912 - val_loss: 0.0231 - val_accuracy: 0.9910 - lr: 4.9787e-06\n",
      "Epoch 164/200\n",
      "165/165 [==============================] - ETA: 0s - loss: 0.0229 - accuracy: 0.9912\n",
      "Epoch 164: val_loss improved from 0.02313 to 0.02313, saving model to ./Data_Science_for_Digital_Health/ckpt/checkpoint.weights.164.h5\n",
      "165/165 [==============================] - 15s 93ms/step - loss: 0.0229 - accuracy: 0.9912 - val_loss: 0.0231 - val_accuracy: 0.9910 - lr: 4.9787e-06\n",
      "Epoch 165/200\n",
      "165/165 [==============================] - ETA: 0s - loss: 0.0229 - accuracy: 0.9912\n",
      "Epoch 165: val_loss improved from 0.02313 to 0.02312, saving model to ./Data_Science_for_Digital_Health/ckpt/checkpoint.weights.165.h5\n",
      "165/165 [==============================] - 15s 94ms/step - loss: 0.0229 - accuracy: 0.9912 - val_loss: 0.0231 - val_accuracy: 0.9910 - lr: 4.9787e-06\n",
      "Epoch 166/200\n",
      "165/165 [==============================] - ETA: 0s - loss: 0.0229 - accuracy: 0.9912\n",
      "Epoch 166: val_loss improved from 0.02312 to 0.02312, saving model to ./Data_Science_for_Digital_Health/ckpt/checkpoint.weights.166.h5\n",
      "165/165 [==============================] - 16s 97ms/step - loss: 0.0229 - accuracy: 0.9912 - val_loss: 0.0231 - val_accuracy: 0.9910 - lr: 4.9787e-06\n",
      "Epoch 167/200\n",
      "165/165 [==============================] - ETA: 0s - loss: 0.0229 - accuracy: 0.9912\n",
      "Epoch 167: val_loss improved from 0.02312 to 0.02312, saving model to ./Data_Science_for_Digital_Health/ckpt/checkpoint.weights.167.h5\n",
      "165/165 [==============================] - 15s 93ms/step - loss: 0.0229 - accuracy: 0.9912 - val_loss: 0.0231 - val_accuracy: 0.9911 - lr: 4.9787e-06\n",
      "Epoch 168/200\n",
      "165/165 [==============================] - ETA: 0s - loss: 0.0229 - accuracy: 0.9912\n",
      "Epoch 168: val_loss improved from 0.02312 to 0.02311, saving model to ./Data_Science_for_Digital_Health/ckpt/checkpoint.weights.168.h5\n",
      "165/165 [==============================] - 16s 98ms/step - loss: 0.0229 - accuracy: 0.9912 - val_loss: 0.0231 - val_accuracy: 0.9910 - lr: 4.9787e-06\n",
      "Epoch 169/200\n",
      "165/165 [==============================] - ETA: 0s - loss: 0.0229 - accuracy: 0.9912\n",
      "Epoch 169: val_loss improved from 0.02311 to 0.02311, saving model to ./Data_Science_for_Digital_Health/ckpt/checkpoint.weights.169.h5\n",
      "165/165 [==============================] - 15s 92ms/step - loss: 0.0229 - accuracy: 0.9912 - val_loss: 0.0231 - val_accuracy: 0.9910 - lr: 4.9787e-06\n",
      "Epoch 170/200\n",
      "165/165 [==============================] - ETA: 0s - loss: 0.0229 - accuracy: 0.9912\n",
      "Epoch 170: val_loss improved from 0.02311 to 0.02311, saving model to ./Data_Science_for_Digital_Health/ckpt/checkpoint.weights.170.h5\n",
      "165/165 [==============================] - 16s 99ms/step - loss: 0.0229 - accuracy: 0.9912 - val_loss: 0.0231 - val_accuracy: 0.9910 - lr: 4.9787e-06\n",
      "Epoch 171/200\n",
      "165/165 [==============================] - ETA: 0s - loss: 0.0228 - accuracy: 0.9912\n",
      "Epoch 171: val_loss improved from 0.02311 to 0.02310, saving model to ./Data_Science_for_Digital_Health/ckpt/checkpoint.weights.171.h5\n",
      "165/165 [==============================] - 16s 99ms/step - loss: 0.0228 - accuracy: 0.9912 - val_loss: 0.0231 - val_accuracy: 0.9911 - lr: 4.9787e-06\n",
      "Epoch 172/200\n",
      "165/165 [==============================] - ETA: 0s - loss: 0.0228 - accuracy: 0.9912\n",
      "Epoch 172: val_loss did not improve from 0.02310\n",
      "165/165 [==============================] - 16s 98ms/step - loss: 0.0228 - accuracy: 0.9912 - val_loss: 0.0231 - val_accuracy: 0.9910 - lr: 4.9787e-06\n",
      "Epoch 173/200\n",
      "165/165 [==============================] - ETA: 0s - loss: 0.0228 - accuracy: 0.9912\n",
      "Epoch 173: val_loss improved from 0.02310 to 0.02309, saving model to ./Data_Science_for_Digital_Health/ckpt/checkpoint.weights.173.h5\n",
      "165/165 [==============================] - 15s 92ms/step - loss: 0.0228 - accuracy: 0.9912 - val_loss: 0.0231 - val_accuracy: 0.9911 - lr: 4.9787e-06\n",
      "Epoch 174/200\n",
      "165/165 [==============================] - ETA: 0s - loss: 0.0228 - accuracy: 0.9912\n",
      "Epoch 174: val_loss improved from 0.02309 to 0.02309, saving model to ./Data_Science_for_Digital_Health/ckpt/checkpoint.weights.174.h5\n",
      "165/165 [==============================] - 16s 100ms/step - loss: 0.0228 - accuracy: 0.9912 - val_loss: 0.0231 - val_accuracy: 0.9910 - lr: 4.9787e-06\n",
      "Epoch 175/200\n",
      "165/165 [==============================] - ETA: 0s - loss: 0.0228 - accuracy: 0.9912\n",
      "Epoch 175: val_loss improved from 0.02309 to 0.02309, saving model to ./Data_Science_for_Digital_Health/ckpt/checkpoint.weights.175.h5\n",
      "165/165 [==============================] - 15s 93ms/step - loss: 0.0228 - accuracy: 0.9912 - val_loss: 0.0231 - val_accuracy: 0.9911 - lr: 4.9787e-06\n",
      "Epoch 176/200\n",
      "165/165 [==============================] - ETA: 0s - loss: 0.0228 - accuracy: 0.9912\n",
      "Epoch 176: val_loss did not improve from 0.02309\n",
      "165/165 [==============================] - 16s 98ms/step - loss: 0.0228 - accuracy: 0.9912 - val_loss: 0.0231 - val_accuracy: 0.9911 - lr: 4.9787e-06\n",
      "Epoch 177/200\n",
      "165/165 [==============================] - ETA: 0s - loss: 0.0228 - accuracy: 0.9912\n",
      "Epoch 177: val_loss improved from 0.02309 to 0.02308, saving model to ./Data_Science_for_Digital_Health/ckpt/checkpoint.weights.177.h5\n",
      "165/165 [==============================] - 15s 93ms/step - loss: 0.0228 - accuracy: 0.9912 - val_loss: 0.0231 - val_accuracy: 0.9911 - lr: 4.9787e-06\n",
      "Epoch 178/200\n",
      "165/165 [==============================] - ETA: 0s - loss: 0.0228 - accuracy: 0.9912\n",
      "Epoch 178: val_loss did not improve from 0.02308\n",
      "165/165 [==============================] - 16s 98ms/step - loss: 0.0228 - accuracy: 0.9912 - val_loss: 0.0231 - val_accuracy: 0.9911 - lr: 4.9787e-06\n",
      "Epoch 179/200\n",
      "165/165 [==============================] - ETA: 0s - loss: 0.0228 - accuracy: 0.9912\n",
      "Epoch 179: val_loss improved from 0.02308 to 0.02307, saving model to ./Data_Science_for_Digital_Health/ckpt/checkpoint.weights.179.h5\n",
      "165/165 [==============================] - 15s 93ms/step - loss: 0.0228 - accuracy: 0.9912 - val_loss: 0.0231 - val_accuracy: 0.9911 - lr: 4.9787e-06\n",
      "Epoch 180/200\n",
      "165/165 [==============================] - ETA: 0s - loss: 0.0228 - accuracy: 0.9912\n",
      "Epoch 180: val_loss improved from 0.02307 to 0.02307, saving model to ./Data_Science_for_Digital_Health/ckpt/checkpoint.weights.180.h5\n",
      "165/165 [==============================] - 16s 99ms/step - loss: 0.0228 - accuracy: 0.9912 - val_loss: 0.0231 - val_accuracy: 0.9911 - lr: 4.9787e-06\n",
      "Epoch 181/200\n",
      "165/165 [==============================] - ETA: 0s - loss: 0.0228 - accuracy: 0.9912\n",
      "Epoch 181: val_loss improved from 0.02307 to 0.02307, saving model to ./Data_Science_for_Digital_Health/ckpt/checkpoint.weights.181.h5\n",
      "165/165 [==============================] - 15s 93ms/step - loss: 0.0228 - accuracy: 0.9912 - val_loss: 0.0231 - val_accuracy: 0.9911 - lr: 4.9787e-06\n",
      "Epoch 182/200\n",
      "165/165 [==============================] - ETA: 0s - loss: 0.0228 - accuracy: 0.9912\n",
      "Epoch 182: val_loss did not improve from 0.02307\n",
      "165/165 [==============================] - 15s 93ms/step - loss: 0.0228 - accuracy: 0.9912 - val_loss: 0.0231 - val_accuracy: 0.9911 - lr: 4.9787e-06\n",
      "Epoch 183/200\n",
      "165/165 [==============================] - ETA: 0s - loss: 0.0228 - accuracy: 0.9912\n",
      "Epoch 183: val_loss did not improve from 0.02307\n",
      "165/165 [==============================] - 15s 92ms/step - loss: 0.0228 - accuracy: 0.9912 - val_loss: 0.0231 - val_accuracy: 0.9911 - lr: 4.9787e-06\n",
      "Epoch 184/200\n",
      "165/165 [==============================] - ETA: 0s - loss: 0.0228 - accuracy: 0.9912\n",
      "Epoch 184: val_loss improved from 0.02307 to 0.02306, saving model to ./Data_Science_for_Digital_Health/ckpt/checkpoint.weights.184.h5\n",
      "165/165 [==============================] - 16s 97ms/step - loss: 0.0228 - accuracy: 0.9912 - val_loss: 0.0231 - val_accuracy: 0.9911 - lr: 4.9787e-06\n",
      "Epoch 185/200\n",
      "165/165 [==============================] - ETA: 0s - loss: 0.0228 - accuracy: 0.9912\n",
      "Epoch 185: val_loss improved from 0.02306 to 0.02306, saving model to ./Data_Science_for_Digital_Health/ckpt/checkpoint.weights.185.h5\n",
      "165/165 [==============================] - 15s 93ms/step - loss: 0.0228 - accuracy: 0.9912 - val_loss: 0.0231 - val_accuracy: 0.9911 - lr: 4.9787e-06\n",
      "Epoch 186/200\n",
      "165/165 [==============================] - ETA: 0s - loss: 0.0228 - accuracy: 0.9912\n",
      "Epoch 186: val_loss did not improve from 0.02306\n",
      "165/165 [==============================] - 16s 99ms/step - loss: 0.0228 - accuracy: 0.9912 - val_loss: 0.0231 - val_accuracy: 0.9911 - lr: 4.9787e-06\n",
      "Epoch 187/200\n",
      "165/165 [==============================] - ETA: 0s - loss: 0.0228 - accuracy: 0.9912\n",
      "Epoch 187: val_loss improved from 0.02306 to 0.02305, saving model to ./Data_Science_for_Digital_Health/ckpt/checkpoint.weights.187.h5\n",
      "165/165 [==============================] - 15s 93ms/step - loss: 0.0228 - accuracy: 0.9912 - val_loss: 0.0231 - val_accuracy: 0.9911 - lr: 4.9787e-06\n",
      "Epoch 188/200\n",
      "165/165 [==============================] - ETA: 0s - loss: 0.0228 - accuracy: 0.9912\n",
      "Epoch 188: val_loss improved from 0.02305 to 0.02305, saving model to ./Data_Science_for_Digital_Health/ckpt/checkpoint.weights.188.h5\n",
      "165/165 [==============================] - 16s 95ms/step - loss: 0.0228 - accuracy: 0.9912 - val_loss: 0.0230 - val_accuracy: 0.9911 - lr: 4.9787e-06\n",
      "Epoch 189/200\n",
      "165/165 [==============================] - ETA: 0s - loss: 0.0228 - accuracy: 0.9912\n",
      "Epoch 189: val_loss improved from 0.02305 to 0.02305, saving model to ./Data_Science_for_Digital_Health/ckpt/checkpoint.weights.189.h5\n",
      "165/165 [==============================] - 15s 93ms/step - loss: 0.0228 - accuracy: 0.9912 - val_loss: 0.0230 - val_accuracy: 0.9911 - lr: 4.9787e-06\n",
      "Epoch 190/200\n",
      "165/165 [==============================] - ETA: 0s - loss: 0.0228 - accuracy: 0.9912\n",
      "Epoch 190: val_loss did not improve from 0.02305\n",
      "165/165 [==============================] - 15s 91ms/step - loss: 0.0228 - accuracy: 0.9912 - val_loss: 0.0230 - val_accuracy: 0.9911 - lr: 4.9787e-06\n",
      "Epoch 191/200\n",
      "165/165 [==============================] - ETA: 0s - loss: 0.0228 - accuracy: 0.9912\n",
      "Epoch 191: val_loss improved from 0.02305 to 0.02304, saving model to ./Data_Science_for_Digital_Health/ckpt/checkpoint.weights.191.h5\n",
      "165/165 [==============================] - 15s 93ms/step - loss: 0.0228 - accuracy: 0.9912 - val_loss: 0.0230 - val_accuracy: 0.9911 - lr: 4.9787e-06\n",
      "Epoch 192/200\n",
      "165/165 [==============================] - ETA: 0s - loss: 0.0228 - accuracy: 0.9912\n",
      "Epoch 192: val_loss did not improve from 0.02304\n",
      "165/165 [==============================] - 15s 92ms/step - loss: 0.0228 - accuracy: 0.9912 - val_loss: 0.0230 - val_accuracy: 0.9911 - lr: 4.9787e-06\n",
      "Epoch 193/200\n",
      "165/165 [==============================] - ETA: 0s - loss: 0.0228 - accuracy: 0.9912\n",
      "Epoch 193: val_loss improved from 0.02304 to 0.02304, saving model to ./Data_Science_for_Digital_Health/ckpt/checkpoint.weights.193.h5\n",
      "165/165 [==============================] - 16s 99ms/step - loss: 0.0228 - accuracy: 0.9912 - val_loss: 0.0230 - val_accuracy: 0.9911 - lr: 4.9787e-06\n",
      "Epoch 194/200\n",
      "165/165 [==============================] - ETA: 0s - loss: 0.0228 - accuracy: 0.9912\n",
      "Epoch 194: val_loss improved from 0.02304 to 0.02303, saving model to ./Data_Science_for_Digital_Health/ckpt/checkpoint.weights.194.h5\n",
      "165/165 [==============================] - 16s 98ms/step - loss: 0.0228 - accuracy: 0.9912 - val_loss: 0.0230 - val_accuracy: 0.9911 - lr: 4.9787e-06\n",
      "Epoch 195/200\n",
      "165/165 [==============================] - ETA: 0s - loss: 0.0228 - accuracy: 0.9912\n",
      "Epoch 195: val_loss improved from 0.02303 to 0.02303, saving model to ./Data_Science_for_Digital_Health/ckpt/checkpoint.weights.195.h5\n",
      "165/165 [==============================] - 15s 92ms/step - loss: 0.0228 - accuracy: 0.9912 - val_loss: 0.0230 - val_accuracy: 0.9911 - lr: 4.9787e-06\n",
      "Epoch 196/200\n",
      "165/165 [==============================] - ETA: 0s - loss: 0.0228 - accuracy: 0.9912\n",
      "Epoch 196: val_loss did not improve from 0.02303\n",
      "165/165 [==============================] - 15s 92ms/step - loss: 0.0228 - accuracy: 0.9912 - val_loss: 0.0230 - val_accuracy: 0.9911 - lr: 4.9787e-06\n",
      "Epoch 197/200\n",
      "165/165 [==============================] - ETA: 0s - loss: 0.0228 - accuracy: 0.9912\n",
      "Epoch 197: val_loss improved from 0.02303 to 0.02303, saving model to ./Data_Science_for_Digital_Health/ckpt/checkpoint.weights.197.h5\n",
      "165/165 [==============================] - 15s 94ms/step - loss: 0.0228 - accuracy: 0.9912 - val_loss: 0.0230 - val_accuracy: 0.9911 - lr: 4.9787e-06\n",
      "Epoch 198/200\n",
      "165/165 [==============================] - ETA: 0s - loss: 0.0228 - accuracy: 0.9912\n",
      "Epoch 198: val_loss improved from 0.02303 to 0.02302, saving model to ./Data_Science_for_Digital_Health/ckpt/checkpoint.weights.198.h5\n",
      "165/165 [==============================] - 15s 93ms/step - loss: 0.0228 - accuracy: 0.9912 - val_loss: 0.0230 - val_accuracy: 0.9911 - lr: 4.9787e-06\n",
      "Epoch 199/200\n",
      "165/165 [==============================] - ETA: 0s - loss: 0.0228 - accuracy: 0.9912\n",
      "Epoch 199: val_loss did not improve from 0.02302\n",
      "165/165 [==============================] - 17s 101ms/step - loss: 0.0228 - accuracy: 0.9912 - val_loss: 0.0230 - val_accuracy: 0.9911 - lr: 4.9787e-06\n",
      "Epoch 200/200\n",
      "165/165 [==============================] - ETA: 0s - loss: 0.0228 - accuracy: 0.9912\n",
      "Epoch 200: val_loss improved from 0.02302 to 0.02301, saving model to ./Data_Science_for_Digital_Health/ckpt/checkpoint.weights.200.h5\n",
      "165/165 [==============================] - 15s 93ms/step - loss: 0.0228 - accuracy: 0.9912 - val_loss: 0.0230 - val_accuracy: 0.9911 - lr: 4.9787e-06\n"
     ]
    }
   ],
   "source": [
    "EScallback = EarlyStopping(monitor=\"val_loss\", patience=10, verbose=1, mode=\"auto\")\n",
    "CKPTcallback = ModelCheckpoint(filepath=\"./Data_Science_for_Digital_Health/ckpt/checkpoint.weights.{epoch}.h5\", monitor='val_loss',\\\n",
    "                               verbose=1, save_best_only=True, save_weights_only=True, mode=\"auto\")\n",
    "\n",
    "\n",
    "def scheduler(epoch, lr):\n",
    "    if epoch < 20:\n",
    "        return lr\n",
    "    elif lr > 5e-6:\n",
    "      return lr * tf.math.exp(-0.1)\n",
    "    else:\n",
    "        return lr\n",
    "LRcallback = LearningRateScheduler(scheduler)\n",
    "\n",
    "LSTMmodel.load_weights(\"./Data_Science_for_Digital_Health/ckpt/checkpoint.weights.0.h5\")\n",
    "\n",
    "history_callback = LSTMmodel.fit(X_train, Y_train, epochs=200, batch_size=128, validation_data=(X_val, Y_val), callbacks=[EScallback, CKPTcallback, LRcallback])"
   ]
  },
  {
   "cell_type": "code",
   "execution_count": 19,
   "metadata": {
    "colab": {
     "base_uri": "https://localhost:8080/",
     "height": 871
    },
    "id": "Q1sY0PNnUcBh",
    "outputId": "ea0cbe80-3b38-420a-af38-de1b3e3724c8"
   },
   "outputs": [
    {
     "name": "stdout",
     "output_type": "stream",
     "text": [
      "dict_keys(['loss', 'accuracy', 'val_loss', 'val_accuracy', 'lr'])\n"
     ]
    },
    {
     "data": {
      "image/png": "[encoded data removed]",
      "text/plain": [
       "<Figure size 1000x1000 with 1 Axes>"
      ]
     },
     "metadata": {},
     "output_type": "display_data"
    }
   ],
   "source": [
    "print(history_callback.history.keys())\n",
    "total_epochs = len(history_callback.history[\"loss\"])\n",
    "\n",
    "\n",
    "fig, ax = plt.subplots(1, 1, figsize=(10, 10), dpi=100)\n",
    "ax.set_title('Loss')\n",
    "ax.plot(range(total_epochs), history_callback.history[\"loss\"], label='Train')\n",
    "ax.plot(range(total_epochs), history_callback.history[\"val_loss\"], label='Valid')\n",
    "ax.legend()\n",
    "plt.show()\n",
    "fig.savefig('metrics.jpg')\n",
    "plt.close()"
   ]
  },
  {
   "cell_type": "markdown",
   "metadata": {
    "id": "3sdghka8UcBi"
   },
   "source": [
    "# try to evaluate by test set"
   ]
  },
  {
   "cell_type": "code",
   "execution_count": 20,
   "metadata": {
    "id": "iheFsAVmUcBi"
   },
   "outputs": [],
   "source": [
    "from sklearn.metrics import accuracy_score, classification_report, confusion_matrix\n",
    "\n",
    "import warnings\n",
    "warnings.filterwarnings(\"ignore\")\n"
   ]
  },
  {
   "cell_type": "code",
   "execution_count": 21,
   "metadata": {
    "colab": {
     "base_uri": "https://localhost:8080/"
    },
    "id": "Jr_Hv5q_wYh2",
    "outputId": "5ae62b7b-8509-43b7-e9ff-a658e4974f88"
   },
   "outputs": [
    {
     "name": "stdout",
     "output_type": "stream",
     "text": [
      "94/94 [==============================] - 3s 27ms/step\n"
     ]
    }
   ],
   "source": [
    "# LSTMmodel.load_weights(\"ckpt/checkpoint.{}.weights.h5\".format(121))\n",
    "LSTMmodel.load_weights(\"./Data_Science_for_Digital_Health/ckpt/checkpoint.weights.200.h5\")\n",
    "y_pred = LSTMmodel.predict(X_test)\n",
    "\n",
    "y_pred_oneClass = np.argmax(y_pred, axis=2)\n",
    "Y_test_2D = Y_test.reshape((Y_test.shape[0], Y_test.shape[1]))"
   ]
  },
  {
   "cell_type": "markdown",
   "metadata": {
    "id": "QX1FTmRGvY72"
   },
   "source": [
    "### all time accuracy (with -1 padding)"
   ]
  },
  {
   "cell_type": "code",
   "execution_count": 25,
   "metadata": {
    "colab": {
     "base_uri": "https://localhost:8080/"
    },
    "id": "XKHM4otbxaDr",
    "outputId": "8c3252bd-b641-4e4d-c352-c6f6521c8f8d"
   },
   "outputs": [
    {
     "name": "stdout",
     "output_type": "stream",
     "text": [
      "              precision    recall  f1-score   support\n",
      "\n",
      "         0.0       0.81      0.89      0.85    191224\n",
      "         1.0       0.65      0.64      0.64     61903\n",
      "         2.0       1.00      1.00      1.00   6970873\n",
      "\n",
      "    accuracy                           0.99   7224000\n",
      "   macro avg       0.82      0.84      0.83   7224000\n",
      "weighted avg       0.99      0.99      0.99   7224000\n",
      "\n",
      "0.9911254152823921\n",
      "[[ 170803   17951    2470]\n",
      " [  21821   39652     430]\n",
      " [  17571    3867 6949435]]\n"
     ]
    }
   ],
   "source": [
    "### 3 classes\n",
    "y_pred_flatten = y_pred_oneClass.reshape((-1))\n",
    "y_test_flatten = Y_test_2D.reshape((-1))\n",
    "\n",
    "print(classification_report(y_test_flatten, y_pred_flatten))\n",
    "print(accuracy_score(y_test_flatten, y_pred_flatten))\n",
    "print(confusion_matrix(y_test_flatten, y_pred_flatten))\n"
   ]
  },
  {
   "cell_type": "markdown",
   "metadata": {
    "id": "DJQLR8gBTQ7Y"
   },
   "source": [
    "### without -1 padding"
   ]
  },
  {
   "cell_type": "code",
   "execution_count": 26,
   "metadata": {
    "colab": {
     "base_uri": "https://localhost:8080/"
    },
    "id": "MMCEr_NSRhbq",
    "outputId": "1f567607-0fa4-4817-bc58-28f28a7d544c"
   },
   "outputs": [
    {
     "name": "stdout",
     "output_type": "stream",
     "text": [
      "              precision    recall  f1-score   support\n",
      "\n",
      "         0.0       0.89      0.89      0.89    191224\n",
      "         1.0       0.69      0.64      0.66     61903\n",
      "         2.0       0.00      0.00      0.00         0\n",
      "\n",
      "    accuracy                           0.83    253127\n",
      "   macro avg       0.53      0.51      0.52    253127\n",
      "weighted avg       0.84      0.83      0.83    253127\n",
      "\n",
      "0.8314205912447111\n",
      "[[170803  17951   2470]\n",
      " [ 21821  39652    430]\n",
      " [     0      0      0]]\n"
     ]
    }
   ],
   "source": [
    "### 5 classes\n",
    "y_pred_nopad = []\n",
    "y_test_nopad = []\n",
    "for yp, yt in zip(y_pred_oneClass, Y_test_2D):\n",
    "    yt_tmp = np.delete(yt, np.where(yt == 2))\n",
    "    yp_tmp = yp[: yt_tmp.shape[0]]\n",
    "\n",
    "    y_test_nopad = [*y_test_nopad, *yt_tmp]\n",
    "    y_pred_nopad = [*y_pred_nopad, *yp_tmp]\n",
    "\n",
    "\n",
    "print(classification_report(y_test_nopad, y_pred_nopad))\n",
    "print(accuracy_score(y_test_nopad, y_pred_nopad))\n",
    "print(confusion_matrix(y_test_nopad, y_pred_nopad))"
   ]
  },
  {
   "cell_type": "markdown",
   "metadata": {
    "id": "qFiqxvDoUGkG"
   },
   "source": [
    "### without -1 padding, last 5 hours\n"
   ]
  },
  {
   "cell_type": "code",
   "execution_count": 27,
   "metadata": {
    "colab": {
     "base_uri": "https://localhost:8080/"
    },
    "id": "ew_8RaiOUFw6",
    "outputId": "985e9612-4b1c-49ae-c1b2-a0b02bf54ff2"
   },
   "outputs": [
    {
     "name": "stdout",
     "output_type": "stream",
     "text": [
      "              precision    recall  f1-score   support\n",
      "\n",
      "         0.0       0.90      0.86      0.88     11510\n",
      "         1.0       0.57      0.60      0.58      2936\n",
      "         2.0       0.00      0.00      0.00         0\n",
      "\n",
      "    accuracy                           0.81     14446\n",
      "   macro avg       0.49      0.49      0.49     14446\n",
      "weighted avg       0.83      0.81      0.82     14446\n",
      "\n",
      "0.8101896718814897\n",
      "[[9949 1340  221]\n",
      " [1147 1755   34]\n",
      " [   0    0    0]]\n"
     ]
    }
   ],
   "source": [
    "### 5 classes\n",
    "y_pred_last5 = []\n",
    "y_test_last5 = []\n",
    "for yp, yt in zip(y_pred_oneClass, Y_test_2D):\n",
    "    yt_tmp = np.delete(yt, np.where(yt == 2))\n",
    "    yp_tmp = yp[: yt_tmp.shape[0]]\n",
    "\n",
    "    y_test_last5 = [*y_test_last5, *yt_tmp[-5:]]\n",
    "    y_pred_last5 = [*y_pred_last5, *yp_tmp[-5:]]\n",
    "\n",
    "\n",
    "print(classification_report(y_test_last5, y_pred_last5))\n",
    "print(accuracy_score(y_test_last5, y_pred_last5))\n",
    "print(confusion_matrix(y_test_last5, y_pred_last5))\n"
   ]
  }
 ],
 "metadata": {
  "accelerator": "GPU",
  "colab": {
   "gpuType": "T4",
   "provenance": []
  },
  "kernelspec": {
   "display_name": "Python 3 (ipykernel)",
   "language": "python",
   "name": "python3"
  },
  "language_info": {
   "codemirror_mode": {
    "name": "ipython",
    "version": 3
   },
   "file_extension": ".py",
   "mimetype": "text/x-python",
   "name": "python",
   "nbconvert_exporter": "python",
   "pygments_lexer": "ipython3",
   "version": "3.10.10"
  }
 },
 "nbformat": 4,
 "nbformat_minor": 4
}
